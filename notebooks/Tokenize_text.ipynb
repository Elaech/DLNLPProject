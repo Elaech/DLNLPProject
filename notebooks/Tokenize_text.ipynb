{
 "cells": [
  {
   "cell_type": "markdown",
   "id": "7572a254-2936-4d85-a309-bd64146104bd",
   "metadata": {
    "tags": []
   },
   "source": [
    "# Imports"
   ]
  },
  {
   "cell_type": "code",
   "execution_count": 6,
   "id": "d333fcaf-d93f-4c0c-bfcb-50fa9055e580",
   "metadata": {},
   "outputs": [
    {
     "name": "stderr",
     "output_type": "stream",
     "text": [
      "[nltk_data] Downloading package stopwords to C:\\Users\\Michael\n",
      "[nltk_data]     Minut\\AppData\\Roaming\\nltk_data...\n",
      "[nltk_data]   Package stopwords is already up-to-date!\n",
      "[nltk_data] Downloading package punkt to C:\\Users\\Michael\n",
      "[nltk_data]     Minut\\AppData\\Roaming\\nltk_data...\n",
      "[nltk_data]   Package punkt is already up-to-date!\n",
      "[nltk_data] Downloading package words to C:\\Users\\Michael\n",
      "[nltk_data]     Minut\\AppData\\Roaming\\nltk_data...\n",
      "[nltk_data]   Package words is already up-to-date!\n"
     ]
    }
   ],
   "source": [
    "import re, random, os\n",
    "import json, requests\n",
    "import pandas as pd\n",
    "import numpy as np\n",
    "import matplotlib.pyplot as plt\n",
    "import nltk\n",
    "import spacy\n",
    "from bs4 import BeautifulSoup\n",
    "from nltk.corpus import stopwords\n",
    "nltk.download('stopwords')\n",
    "nltk.download('punkt')\n",
    "nltk.download('words')\n",
    "from nltk.stem import PorterStemmer\n",
    "# from nltk.stem import LancasterStemmer\n",
    "from nltk.corpus import words\n",
    "from nltk.stem import WordNetLemmatizer\n",
    "\n",
    "import seaborn as sns\n",
    "import enchant\n",
    "from pathlib import Path\n",
    "from datasets import list_datasets, load_dataset\n",
    "from pprint import pprint\n",
    "from sklearn.feature_extraction.text import CountVectorizer, TfidfVectorizer\n",
    "from wordcloud import WordCloud"
   ]
  },
  {
   "cell_type": "code",
   "execution_count": 2,
   "id": "27bf18f6-1391-48bb-b1ab-0707369d1861",
   "metadata": {},
   "outputs": [],
   "source": [
    "from tqdm import tqdm"
   ]
  },
  {
   "cell_type": "code",
   "execution_count": 3,
   "id": "15b15448-7263-4a2f-99d8-cd405b4f87b7",
   "metadata": {},
   "outputs": [],
   "source": [
    "tqdm.pandas()"
   ]
  },
  {
   "cell_type": "code",
   "execution_count": 10,
   "id": "6997d421-151e-4dd6-8071-913f4a04b1b9",
   "metadata": {},
   "outputs": [],
   "source": [
    "os.chdir(\"..\")"
   ]
  },
  {
   "cell_type": "code",
   "execution_count": 21,
   "id": "aae5688c-76cc-4ee0-986d-1fe8404d1d83",
   "metadata": {},
   "outputs": [],
   "source": [
    "import pickle"
   ]
  },
  {
   "cell_type": "markdown",
   "id": "f98e6dbe-0ef8-437c-882c-e0623619dec6",
   "metadata": {},
   "source": [
    "# Tokenizer Training"
   ]
  },
  {
   "cell_type": "code",
   "execution_count": 86,
   "id": "f48a7c65-655e-44c3-a375-82a2f18d725d",
   "metadata": {},
   "outputs": [],
   "source": [
    "TRAIN_DATASET_SANITIZED_PATH = \"data/train_sanitized.csv\""
   ]
  },
  {
   "cell_type": "code",
   "execution_count": 87,
   "id": "02e566e1-87cc-4737-852a-32eabf08deed",
   "metadata": {},
   "outputs": [],
   "source": [
    "TEST_DATASET_SANITIZED_PATH = \"data/test_sanitized.csv\""
   ]
  },
  {
   "cell_type": "code",
   "execution_count": 88,
   "id": "178df4d7-ef8d-426d-b51c-d4cd528fb7fc",
   "metadata": {},
   "outputs": [],
   "source": [
    "train_df = pd.read_csv(TRAIN_DATASET_SANITIZED_PATH)"
   ]
  },
  {
   "cell_type": "code",
   "execution_count": 89,
   "id": "bbe603d9-3838-4d2e-98c9-3340bce5a0a2",
   "metadata": {},
   "outputs": [],
   "source": [
    "test_df = pd.read_csv(TEST_DATASET_SANITIZED_PATH)"
   ]
  },
  {
   "cell_type": "code",
   "execution_count": 90,
   "id": "ded288ef-d08c-478a-8ace-1278bd6ce8a0",
   "metadata": {},
   "outputs": [],
   "source": [
    "train_df = train_df.dropna()"
   ]
  },
  {
   "cell_type": "code",
   "execution_count": 91,
   "id": "f3bf2099-0635-408f-be96-9763b6660650",
   "metadata": {},
   "outputs": [],
   "source": [
    "test_df = test_df.dropna()"
   ]
  },
  {
   "cell_type": "code",
   "execution_count": 92,
   "id": "cc471a95-304d-48e7-afe2-9c841c86d8bf",
   "metadata": {},
   "outputs": [],
   "source": [
    "train_text = train_df[\"text\"].tolist()"
   ]
  },
  {
   "cell_type": "code",
   "execution_count": 93,
   "id": "1b418d2a-e99d-434d-8fe7-81867e6e7af4",
   "metadata": {},
   "outputs": [],
   "source": [
    "test_text = test_df[\"text\"].tolist()"
   ]
  },
  {
   "cell_type": "code",
   "execution_count": 94,
   "id": "522d2715-affe-4dfa-8d30-dbcd6c7040e4",
   "metadata": {},
   "outputs": [],
   "source": [
    "idf_vectorizer = TfidfVectorizer()"
   ]
  },
  {
   "cell_type": "code",
   "execution_count": 95,
   "id": "6696488c-74db-436d-a872-bdd9d8d3dd39",
   "metadata": {},
   "outputs": [],
   "source": [
    "cv_vectorizer = CountVectorizer()"
   ]
  },
  {
   "cell_type": "code",
   "execution_count": 96,
   "id": "756e1a40-1b3d-4a7d-b497-15e34324b942",
   "metadata": {},
   "outputs": [],
   "source": [
    "idf_vectorizer = idf_vectorizer.fit(train_text)"
   ]
  },
  {
   "cell_type": "code",
   "execution_count": 97,
   "id": "e762b2ae-68bb-4879-905d-659769db188b",
   "metadata": {},
   "outputs": [],
   "source": [
    "cv_vectorizer = cv_vectorizer.fit(train_text)"
   ]
  },
  {
   "cell_type": "code",
   "execution_count": 98,
   "id": "7bb8445b-29af-4950-a19a-95a9bb47275e",
   "metadata": {},
   "outputs": [],
   "source": [
    "def save_model(model, path):\n",
    "    with open(path, 'wb') as of:\n",
    "        pickle.dump(model, of)"
   ]
  },
  {
   "cell_type": "code",
   "execution_count": 99,
   "id": "3efe7578-f34a-4576-a353-46554662e0d8",
   "metadata": {},
   "outputs": [],
   "source": [
    "def load_model(path):\n",
    "    model = None\n",
    "    with open(path, 'rb') as infile:\n",
    "        model = pickle.load(infile)\n",
    "    return model"
   ]
  },
  {
   "cell_type": "code",
   "execution_count": 100,
   "id": "7f132dcf-7421-43dd-ab2a-886b88e24bfc",
   "metadata": {},
   "outputs": [],
   "source": [
    "IDF_VECTORIZER_PATH = \"models/idf_vectorizer\" "
   ]
  },
  {
   "cell_type": "code",
   "execution_count": 101,
   "id": "b31728cc-3c02-4dc8-80e8-3be9fca5a331",
   "metadata": {},
   "outputs": [],
   "source": [
    "CV_VECTORIZER_PATH = \"models/cv_vectorizer\" "
   ]
  },
  {
   "cell_type": "code",
   "execution_count": 102,
   "id": "7ac9e4b5-4924-4a2a-9770-83e54331dc7e",
   "metadata": {},
   "outputs": [],
   "source": [
    "save_model(idf_vectorizer, IDF_VECTORIZER_PATH)"
   ]
  },
  {
   "cell_type": "code",
   "execution_count": 103,
   "id": "48e04975-367a-415e-a07d-e29bf5f49c47",
   "metadata": {},
   "outputs": [],
   "source": [
    "save_model(cv_vectorizer, CV_VECTORIZER_PATH)"
   ]
  },
  {
   "cell_type": "code",
   "execution_count": 104,
   "id": "eff792f6-a71d-4d8e-b67f-03f125140765",
   "metadata": {},
   "outputs": [
    {
     "data": {
      "text/plain": [
       "57437"
      ]
     },
     "execution_count": 104,
     "metadata": {},
     "output_type": "execute_result"
    }
   ],
   "source": [
    "len(idf_vectorizer.get_feature_names_out())"
   ]
  },
  {
   "cell_type": "code",
   "execution_count": 105,
   "id": "d8937ba5-6d2d-4994-a835-3bddc29a8ee6",
   "metadata": {},
   "outputs": [
    {
     "data": {
      "text/plain": [
       "57437"
      ]
     },
     "execution_count": 105,
     "metadata": {},
     "output_type": "execute_result"
    }
   ],
   "source": [
    "len(cv_vectorizer.get_feature_names_out())"
   ]
  },
  {
   "cell_type": "code",
   "execution_count": 106,
   "id": "a0519478-efea-4b35-9d04-de0584d5bf01",
   "metadata": {},
   "outputs": [],
   "source": [
    "cv_vectorizer = load_model(CV_VECTORIZER_PATH)"
   ]
  },
  {
   "cell_type": "code",
   "execution_count": 107,
   "id": "21356c18-a47e-4bda-8947-162f562c953d",
   "metadata": {},
   "outputs": [
    {
     "data": {
      "text/plain": [
       "57437"
      ]
     },
     "execution_count": 107,
     "metadata": {},
     "output_type": "execute_result"
    }
   ],
   "source": [
    "len(cv_vectorizer.get_feature_names_out())"
   ]
  },
  {
   "cell_type": "code",
   "execution_count": 108,
   "id": "c8e9169f-cbc3-4526-9603-fece3767cfce",
   "metadata": {},
   "outputs": [],
   "source": [
    "idf_vectorizer = load_model(IDF_VECTORIZER_PATH)"
   ]
  },
  {
   "cell_type": "code",
   "execution_count": 109,
   "id": "1c2f9085-bb58-4433-a5c0-f49582fb267a",
   "metadata": {},
   "outputs": [
    {
     "data": {
      "text/plain": [
       "57437"
      ]
     },
     "execution_count": 109,
     "metadata": {},
     "output_type": "execute_result"
    }
   ],
   "source": [
    "len(idf_vectorizer.get_feature_names_out())"
   ]
  },
  {
   "cell_type": "markdown",
   "id": "88d41335-df86-4671-86b1-e523ddb9bccd",
   "metadata": {},
   "source": [
    "# Tokenize text"
   ]
  },
  {
   "cell_type": "code",
   "execution_count": 110,
   "id": "f2c7b014-dfb4-4262-81cd-df2d31ebedca",
   "metadata": {},
   "outputs": [],
   "source": [
    "train_text_vectors_cv = cv_vectorizer.transform(train_text)"
   ]
  },
  {
   "cell_type": "code",
   "execution_count": 111,
   "id": "d3478a42-1c90-476d-a39a-f26e54a1b24b",
   "metadata": {},
   "outputs": [],
   "source": [
    "train_text_vectors_idf = idf_vectorizer.transform(train_text)"
   ]
  },
  {
   "cell_type": "code",
   "execution_count": 112,
   "id": "7b623cf6-d920-4074-8c3e-ea2b2c2ba28d",
   "metadata": {},
   "outputs": [],
   "source": [
    "test_text_vectors_cv = cv_vectorizer.transform(test_text)"
   ]
  },
  {
   "cell_type": "code",
   "execution_count": 113,
   "id": "c650375a-e5bc-4dab-b4e4-9500cf86f1a7",
   "metadata": {},
   "outputs": [],
   "source": [
    "test_text_vectors_idf = idf_vectorizer.transform(test_text)"
   ]
  },
  {
   "cell_type": "code",
   "execution_count": 114,
   "id": "df6596c7-ce39-45d2-ad5a-f2dc73772827",
   "metadata": {},
   "outputs": [],
   "source": [
    "TRAIN_IDF_DATA_PATH = \"data/train_idf_vectors\""
   ]
  },
  {
   "cell_type": "code",
   "execution_count": 115,
   "id": "5f0dce2e-e5d7-4ae3-b15e-e2bbd52de4d4",
   "metadata": {},
   "outputs": [],
   "source": [
    "TRAIN_CV_DATA_PATH = \"data/train_cv_vectors\""
   ]
  },
  {
   "cell_type": "code",
   "execution_count": 116,
   "id": "a1abe2fd-3bee-410f-ad1e-3d32d9437e36",
   "metadata": {},
   "outputs": [],
   "source": [
    "TEST_IDF_DATA_PATH = \"data/test_idf_vectors\""
   ]
  },
  {
   "cell_type": "code",
   "execution_count": 117,
   "id": "528c4b21-2a84-4375-a9ca-53c8e36ebe6a",
   "metadata": {},
   "outputs": [],
   "source": [
    "TEST_CV_DATA_PATH = \"data/test_cv_vectors\""
   ]
  },
  {
   "cell_type": "code",
   "execution_count": 118,
   "id": "c07c9301-17f4-41d5-bff2-edd8ef1450d3",
   "metadata": {},
   "outputs": [
    {
     "data": {
      "text/plain": [
       "<1x57437 sparse matrix of type '<class 'numpy.float64'>'\n",
       "\twith 6 stored elements in Compressed Sparse Row format>"
      ]
     },
     "execution_count": 118,
     "metadata": {},
     "output_type": "execute_result"
    }
   ],
   "source": [
    "train_text_vectors_idf[0]"
   ]
  },
  {
   "cell_type": "code",
   "execution_count": 119,
   "id": "d20b94ed-506e-415c-804a-78af2e362df8",
   "metadata": {},
   "outputs": [],
   "source": [
    "save_model(train_text_vectors_idf, TRAIN_IDF_DATA_PATH)"
   ]
  },
  {
   "cell_type": "code",
   "execution_count": 120,
   "id": "8ea6455d-f61e-4f92-a243-34e8ce830a80",
   "metadata": {},
   "outputs": [
    {
     "data": {
      "text/plain": [
       "<1x57437 sparse matrix of type '<class 'numpy.float64'>'\n",
       "\twith 6 stored elements in Compressed Sparse Row format>"
      ]
     },
     "execution_count": 120,
     "metadata": {},
     "output_type": "execute_result"
    }
   ],
   "source": [
    "load_model(TRAIN_IDF_DATA_PATH)[0]"
   ]
  },
  {
   "cell_type": "code",
   "execution_count": 121,
   "id": "9c0bcad4-3ad8-422c-90d7-9a030710c096",
   "metadata": {},
   "outputs": [],
   "source": [
    "save_model(train_text_vectors_cv, TRAIN_CV_DATA_PATH)"
   ]
  },
  {
   "cell_type": "code",
   "execution_count": 122,
   "id": "cd51e20e-4e2c-4ea3-9ada-dccabb6f0ea0",
   "metadata": {},
   "outputs": [],
   "source": [
    "save_model(test_text_vectors_idf, TEST_IDF_DATA_PATH)"
   ]
  },
  {
   "cell_type": "code",
   "execution_count": 123,
   "id": "c9d43048-adbd-4c6a-8071-aae5b83deea5",
   "metadata": {},
   "outputs": [],
   "source": [
    "save_model(test_text_vectors_cv, TEST_CV_DATA_PATH)"
   ]
  },
  {
   "cell_type": "code",
   "execution_count": 124,
   "id": "6ed0ae28-6db9-4c5f-afea-60b9a653fd8f",
   "metadata": {},
   "outputs": [
    {
     "data": {
      "text/plain": [
       "6"
      ]
     },
     "execution_count": 124,
     "metadata": {},
     "output_type": "execute_result"
    }
   ],
   "source": [
    "load_model(TRAIN_CV_DATA_PATH)[0].toarray().sum()"
   ]
  },
  {
   "cell_type": "code",
   "execution_count": 126,
   "id": "bebedb3f-5f6e-487e-8cd6-8615e6de4e5b",
   "metadata": {},
   "outputs": [
    {
     "data": {
      "text/plain": [
       "2.366631901441539"
      ]
     },
     "execution_count": 126,
     "metadata": {},
     "output_type": "execute_result"
    }
   ],
   "source": [
    "load_model(TRAIN_IDF_DATA_PATH)[0].toarray().sum()"
   ]
  },
  {
   "cell_type": "code",
   "execution_count": null,
   "id": "0ce91592-729f-43b6-b18e-4bf6695004c5",
   "metadata": {},
   "outputs": [],
   "source": []
  }
 ],
 "metadata": {
  "kernelspec": {
   "display_name": "Python 3 (ipykernel)",
   "language": "python",
   "name": "python3"
  },
  "language_info": {
   "codemirror_mode": {
    "name": "ipython",
    "version": 3
   },
   "file_extension": ".py",
   "mimetype": "text/x-python",
   "name": "python",
   "nbconvert_exporter": "python",
   "pygments_lexer": "ipython3",
   "version": "3.10.2"
  }
 },
 "nbformat": 4,
 "nbformat_minor": 5
}
