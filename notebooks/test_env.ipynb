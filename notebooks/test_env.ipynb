{
 "cells": [
  {
   "cell_type": "code",
   "execution_count": 1,
   "id": "2bdce93e-7510-4581-bf17-569ef5a20f28",
   "metadata": {},
   "outputs": [
    {
     "name": "stdout",
     "output_type": "stream",
     "text": [
      "Hello world!\n"
     ]
    }
   ],
   "source": [
    "print(\"Hello world!\")"
   ]
  },
  {
   "cell_type": "code",
   "execution_count": 1,
   "id": "4a99e7da-5ffc-4cb3-a51e-d9ec0693eb87",
   "metadata": {},
   "outputs": [],
   "source": [
    "import numpy as np"
   ]
  },
  {
   "cell_type": "code",
   "execution_count": 2,
   "id": "cddb41b5-cd9b-49e9-ba73-e610d5f28302",
   "metadata": {},
   "outputs": [
    {
     "data": {
      "text/plain": [
       "array([[0.0486506 , 0.06672301, 0.56530619, 0.25318041, 0.81383201,\n",
       "        0.21489942],\n",
       "       [0.1699755 , 0.23424408, 0.8249594 , 0.34367469, 0.44285265,\n",
       "        0.63218858],\n",
       "       [0.77327607, 0.25410321, 0.19044806, 0.48413944, 0.1579614 ,\n",
       "        0.42922495]])"
      ]
     },
     "execution_count": 2,
     "metadata": {},
     "output_type": "execute_result"
    }
   ],
   "source": [
    "np.random.random((3,6))"
   ]
  },
  {
   "cell_type": "code",
   "execution_count": null,
   "id": "9da3aae7-69fa-4cb3-83cb-db93c10feee0",
   "metadata": {},
   "outputs": [],
   "source": []
  }
 ],
 "metadata": {
  "kernelspec": {
   "display_name": "Python 3 (ipykernel)",
   "language": "python",
   "name": "python3"
  },
  "language_info": {
   "codemirror_mode": {
    "name": "ipython",
    "version": 3
   },
   "file_extension": ".py",
   "mimetype": "text/x-python",
   "name": "python",
   "nbconvert_exporter": "python",
   "pygments_lexer": "ipython3",
   "version": "3.10.2"
  }
 },
 "nbformat": 4,
 "nbformat_minor": 5
}
