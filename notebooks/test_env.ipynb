{
 "cells": [
  {
   "cell_type": "markdown",
   "id": "eb639cef-fd21-4776-add7-b340c5bf68d6",
   "metadata": {
    "tags": []
   },
   "source": [
    "# First section"
   ]
  },
  {
   "cell_type": "code",
   "execution_count": 3,
   "id": "2bdce93e-7510-4581-bf17-569ef5a20f28",
   "metadata": {},
   "outputs": [
    {
     "name": "stdout",
     "output_type": "stream",
     "text": [
      "Hello world!\n"
     ]
    }
   ],
   "source": [
    "print(\"Hello world!\")"
   ]
  },
  {
   "cell_type": "code",
   "execution_count": 4,
   "id": "4a99e7da-5ffc-4cb3-a51e-d9ec0693eb87",
   "metadata": {},
   "outputs": [],
   "source": [
    "import numpy as np"
   ]
  },
  {
   "cell_type": "code",
   "execution_count": 6,
   "id": "cddb41b5-cd9b-49e9-ba73-e610d5f28302",
   "metadata": {},
   "outputs": [],
   "source": [
    "x = np.random.random((3,6))"
   ]
  },
  {
   "cell_type": "code",
   "execution_count": 7,
   "id": "9da3aae7-69fa-4cb3-83cb-db93c10feee0",
   "metadata": {},
   "outputs": [
    {
     "data": {
      "text/plain": [
       "array([[0.86179516, 0.19111501, 0.93661602, 0.95045975, 0.8680851 ,\n",
       "        0.98899872],\n",
       "       [0.77358554, 0.87564156, 0.57186088, 0.94640328, 0.45488147,\n",
       "        0.55882928],\n",
       "       [0.6654435 , 0.75663391, 0.52815739, 0.93927624, 0.68415547,\n",
       "        0.13401488]])"
      ]
     },
     "execution_count": 7,
     "metadata": {},
     "output_type": "execute_result"
    }
   ],
   "source": [
    "x"
   ]
  },
  {
   "cell_type": "markdown",
   "id": "35257393-472d-4dd5-a5d4-3119cd67c44d",
   "metadata": {
    "tags": []
   },
   "source": [
    "# Second Section"
   ]
  },
  {
   "cell_type": "code",
   "execution_count": null,
   "id": "bf636d99-6c4f-482f-8e48-e576fe39ed1c",
   "metadata": {},
   "outputs": [],
   "source": []
  }
 ],
 "metadata": {
  "kernelspec": {
   "display_name": "Python 3 (ipykernel)",
   "language": "python",
   "name": "python3"
  },
  "language_info": {
   "codemirror_mode": {
    "name": "ipython",
    "version": 3
   },
   "file_extension": ".py",
   "mimetype": "text/x-python",
   "name": "python",
   "nbconvert_exporter": "python",
   "pygments_lexer": "ipython3",
   "version": "3.10.2"
  }
 },
 "nbformat": 4,
 "nbformat_minor": 5
}
