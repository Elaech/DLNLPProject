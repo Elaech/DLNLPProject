{
 "cells": [
  {
   "cell_type": "markdown",
   "id": "224a2b5f-45b7-4893-a789-f8b18068b676",
   "metadata": {
    "tags": []
   },
   "source": [
    "# Environment and Imports"
   ]
  },
  {
   "cell_type": "code",
   "execution_count": 1,
   "id": "5066c0c8-63ae-40d6-a9e9-42734beed852",
   "metadata": {},
   "outputs": [],
   "source": [
    "import pandas as pd"
   ]
  },
  {
   "cell_type": "code",
   "execution_count": 2,
   "id": "d4d07786-6c32-47b4-8f19-d3a3a37b3171",
   "metadata": {},
   "outputs": [],
   "source": [
    "import codecs"
   ]
  },
  {
   "cell_type": "code",
   "execution_count": 3,
   "id": "6f763034-d282-43d3-84e6-4f8cc1457f75",
   "metadata": {},
   "outputs": [],
   "source": [
    "import os"
   ]
  },
  {
   "cell_type": "code",
   "execution_count": 4,
   "id": "8dd3bf92-c1d4-4bff-ae2b-5a0e5f31fee3",
   "metadata": {},
   "outputs": [],
   "source": [
    "os.chdir(\"..\")"
   ]
  },
  {
   "cell_type": "code",
   "execution_count": 5,
   "id": "596e4405-9133-48d5-b4c2-cc9db7ef4983",
   "metadata": {},
   "outputs": [],
   "source": [
    "import json"
   ]
  },
  {
   "cell_type": "markdown",
   "id": "bb1bf6cd-f029-420e-af3b-d25e8900a239",
   "metadata": {
    "jp-MarkdownHeadingCollapsed": true,
    "tags": []
   },
   "source": [
    "# Load Data"
   ]
  },
  {
   "cell_type": "markdown",
   "id": "e982c623-7040-4f1d-8ee6-f03231e5e599",
   "metadata": {
    "tags": []
   },
   "source": [
    "## Load ro_sent"
   ]
  },
  {
   "cell_type": "code",
   "execution_count": 15,
   "id": "d53df663-4c08-4c94-b399-50cee9355a84",
   "metadata": {},
   "outputs": [],
   "source": [
    "RO_SENT_TRAIN_PATH = \"data/ro_sent_train.csv\""
   ]
  },
  {
   "cell_type": "code",
   "execution_count": 16,
   "id": "d433812c-4ab5-4f37-a087-cf3de2cde011",
   "metadata": {},
   "outputs": [],
   "source": [
    "RO_SENT_TEST_PATH = \"data/ro_sent_test.csv\""
   ]
  },
  {
   "cell_type": "code",
   "execution_count": 17,
   "id": "b92a0497-288e-4a2d-a4c4-7a63a280a839",
   "metadata": {},
   "outputs": [],
   "source": [
    "def load_ro_sent_train(path):\n",
    "    return pd.read_csv(path, encoding=\"utf-8\", index_col=\"index\")"
   ]
  },
  {
   "cell_type": "code",
   "execution_count": 18,
   "id": "d8ec9511-3758-4a1f-b736-b26bbc41e33c",
   "metadata": {},
   "outputs": [],
   "source": [
    "def load_ro_sent_test(path):\n",
    "    return pd.read_csv(path, encoding=\"utf-8\",  index_col=\"Unnamed: 0\")"
   ]
  },
  {
   "cell_type": "code",
   "execution_count": 139,
   "id": "a1da5cb9-a2b9-4c4a-a7c1-e4ab1d99f83c",
   "metadata": {},
   "outputs": [],
   "source": [
    "ro_sent_train = load_ro_sent_train(RO_SENT_TRAIN_PATH)"
   ]
  },
  {
   "cell_type": "code",
   "execution_count": 43,
   "id": "995cbc65-0ec0-4326-bd09-c52dedafcf75",
   "metadata": {},
   "outputs": [],
   "source": [
    "ro_sent_test = load_ro_sent_test(RO_SENT_TEST_PATH)"
   ]
  },
  {
   "cell_type": "markdown",
   "id": "54804670-783a-41b4-9d7a-b66ed81e9558",
   "metadata": {
    "tags": []
   },
   "source": [
    "## Load LaRoSeDa"
   ]
  },
  {
   "cell_type": "code",
   "execution_count": 12,
   "id": "47fbc0d2-48fa-4b64-b584-6b3da37b15ed",
   "metadata": {},
   "outputs": [],
   "source": [
    "LAROSEDA_TRAIN_PATH = \"data/laroseda_train.json\""
   ]
  },
  {
   "cell_type": "code",
   "execution_count": 13,
   "id": "88d8f714-cb6e-4594-9e3c-4a22c590e4ff",
   "metadata": {},
   "outputs": [],
   "source": [
    "LAROSEDA_TEST_PATH = \"data/laroseda_test.json\""
   ]
  },
  {
   "cell_type": "code",
   "execution_count": 14,
   "id": "ae83fae8-fde3-48f0-a7ae-27e9e3d80d26",
   "metadata": {},
   "outputs": [],
   "source": [
    "def load_laroseda(path):\n",
    "    with codecs.open(LAROSEDA_TRAIN_PATH, \"r\", encoding=\"utf-8\") as infile:\n",
    "        laroseda_json = json.load(infile)\n",
    "    return pd.DataFrame.from_dict(laroseda_json[\"reviews\"]).set_index(\"index\")"
   ]
  },
  {
   "cell_type": "code",
   "execution_count": 95,
   "id": "40c71cb8-4f92-431f-a783-56e9e2eca628",
   "metadata": {},
   "outputs": [],
   "source": [
    "laroseda_train = load_laroseda(LAROSEDA_TRAIN_PATH)"
   ]
  },
  {
   "cell_type": "code",
   "execution_count": 96,
   "id": "849a051e-4d5d-44be-a155-5b6397db1c56",
   "metadata": {},
   "outputs": [],
   "source": [
    "laroseda_test = load_laroseda(LAROSEDA_TEST_PATH)"
   ]
  },
  {
   "cell_type": "markdown",
   "id": "d5d5f3f6-c7ac-472e-9dfd-e58b2a63b408",
   "metadata": {
    "jp-MarkdownHeadingCollapsed": true,
    "tags": []
   },
   "source": [
    "# Explore and Combine"
   ]
  },
  {
   "cell_type": "code",
   "execution_count": 105,
   "id": "ccb6376f-bdfd-4111-ac83-df9fbc190491",
   "metadata": {},
   "outputs": [
    {
     "data": {
      "text/html": [
       "<div>\n",
       "<style scoped>\n",
       "    .dataframe tbody tr th:only-of-type {\n",
       "        vertical-align: middle;\n",
       "    }\n",
       "\n",
       "    .dataframe tbody tr th {\n",
       "        vertical-align: top;\n",
       "    }\n",
       "\n",
       "    .dataframe thead th {\n",
       "        text-align: right;\n",
       "    }\n",
       "</style>\n",
       "<table border=\"1\" class=\"dataframe\">\n",
       "  <thead>\n",
       "    <tr style=\"text-align: right;\">\n",
       "      <th></th>\n",
       "      <th>text</th>\n",
       "      <th>label</th>\n",
       "    </tr>\n",
       "    <tr>\n",
       "      <th>index</th>\n",
       "      <th></th>\n",
       "      <th></th>\n",
       "    </tr>\n",
       "  </thead>\n",
       "  <tbody>\n",
       "    <tr>\n",
       "      <th>0</th>\n",
       "      <td>acest document mi-a deschis cu adevarat ochii ...</td>\n",
       "      <td>1</td>\n",
       "    </tr>\n",
       "    <tr>\n",
       "      <th>1</th>\n",
       "      <td>tine mancarea rece. ce altceva ii mai trebuie?...</td>\n",
       "      <td>1</td>\n",
       "    </tr>\n",
       "    <tr>\n",
       "      <th>2</th>\n",
       "      <td>excelent\\nrecomand!</td>\n",
       "      <td>1</td>\n",
       "    </tr>\n",
       "    <tr>\n",
       "      <th>3</th>\n",
       "      <td>ca un rocker imbatranit, acest film mentioneaz...</td>\n",
       "      <td>1</td>\n",
       "    </tr>\n",
       "    <tr>\n",
       "      <th>4</th>\n",
       "      <td>ei bine, a facut o groaza veche si foarte intu...</td>\n",
       "      <td>1</td>\n",
       "    </tr>\n",
       "  </tbody>\n",
       "</table>\n",
       "</div>"
      ],
      "text/plain": [
       "                                                    text  label\n",
       "index                                                          \n",
       "0      acest document mi-a deschis cu adevarat ochii ...      1\n",
       "1      tine mancarea rece. ce altceva ii mai trebuie?...      1\n",
       "2                                    excelent\\nrecomand!      1\n",
       "3      ca un rocker imbatranit, acest film mentioneaz...      1\n",
       "4      ei bine, a facut o groaza veche si foarte intu...      1"
      ]
     },
     "execution_count": 105,
     "metadata": {},
     "output_type": "execute_result"
    }
   ],
   "source": [
    "ro_sent_train.head()"
   ]
  },
  {
   "cell_type": "code",
   "execution_count": 98,
   "id": "f2c1217a-e4ed-4fe9-8961-c9c941940eb1",
   "metadata": {},
   "outputs": [
    {
     "data": {
      "text/html": [
       "<div>\n",
       "<style scoped>\n",
       "    .dataframe tbody tr th:only-of-type {\n",
       "        vertical-align: middle;\n",
       "    }\n",
       "\n",
       "    .dataframe tbody tr th {\n",
       "        vertical-align: top;\n",
       "    }\n",
       "\n",
       "    .dataframe thead th {\n",
       "        text-align: right;\n",
       "    }\n",
       "</style>\n",
       "<table border=\"1\" class=\"dataframe\">\n",
       "  <thead>\n",
       "    <tr style=\"text-align: right;\">\n",
       "      <th></th>\n",
       "      <th>title</th>\n",
       "      <th>content</th>\n",
       "      <th>starRating</th>\n",
       "    </tr>\n",
       "    <tr>\n",
       "      <th>index</th>\n",
       "      <th></th>\n",
       "      <th></th>\n",
       "      <th></th>\n",
       "    </tr>\n",
       "  </thead>\n",
       "  <tbody>\n",
       "    <tr>\n",
       "      <th>11262</th>\n",
       "      <td>Foarte slab</td>\n",
       "      <td>ca aspect este foarte frumoasa dar cine vrea s...</td>\n",
       "      <td>1</td>\n",
       "    </tr>\n",
       "    <tr>\n",
       "      <th>3890</th>\n",
       "      <td>Foarte multumit</td>\n",
       "      <td>se incarca repede si tine 3 incarcari complete...</td>\n",
       "      <td>5</td>\n",
       "    </tr>\n",
       "    <tr>\n",
       "      <th>9413</th>\n",
       "      <td>Țeapa de zile mari!!!</td>\n",
       "      <td>in primul rand nu este de stica dupa cum spune...</td>\n",
       "      <td>1</td>\n",
       "    </tr>\n",
       "    <tr>\n",
       "      <th>9350</th>\n",
       "      <td>Nu merita cumparate</td>\n",
       "      <td>nu merita cumparate... sunt create cu limitare...</td>\n",
       "      <td>1</td>\n",
       "    </tr>\n",
       "    <tr>\n",
       "      <th>7126</th>\n",
       "      <td>Recomand</td>\n",
       "      <td>un ceas excelent. face cam tot ce ai nevoie ca...</td>\n",
       "      <td>5</td>\n",
       "    </tr>\n",
       "  </tbody>\n",
       "</table>\n",
       "</div>"
      ],
      "text/plain": [
       "                       title  \\\n",
       "index                          \n",
       "11262            Foarte slab   \n",
       "3890         Foarte multumit   \n",
       "9413   Țeapa de zile mari!!!   \n",
       "9350     Nu merita cumparate   \n",
       "7126                Recomand   \n",
       "\n",
       "                                                 content starRating  \n",
       "index                                                                \n",
       "11262  ca aspect este foarte frumoasa dar cine vrea s...          1  \n",
       "3890   se incarca repede si tine 3 incarcari complete...          5  \n",
       "9413   in primul rand nu este de stica dupa cum spune...          1  \n",
       "9350   nu merita cumparate... sunt create cu limitare...          1  \n",
       "7126   un ceas excelent. face cam tot ce ai nevoie ca...          5  "
      ]
     },
     "execution_count": 98,
     "metadata": {},
     "output_type": "execute_result"
    }
   ],
   "source": [
    "laroseda_train.head()"
   ]
  },
  {
   "cell_type": "code",
   "execution_count": 99,
   "id": "f1797dfc-8cfb-477b-a8a8-987e36a515e8",
   "metadata": {},
   "outputs": [],
   "source": [
    "# sanitize title\n",
    "laroseda_train[\"title\"] = laroseda_train[\"title\"].str.replace('[^ \\w+]', '', regex=True)"
   ]
  },
  {
   "cell_type": "code",
   "execution_count": 100,
   "id": "0c950cb7-2b9b-46fb-ad0d-89a770eddef2",
   "metadata": {},
   "outputs": [
    {
     "data": {
      "text/html": [
       "<div>\n",
       "<style scoped>\n",
       "    .dataframe tbody tr th:only-of-type {\n",
       "        vertical-align: middle;\n",
       "    }\n",
       "\n",
       "    .dataframe tbody tr th {\n",
       "        vertical-align: top;\n",
       "    }\n",
       "\n",
       "    .dataframe thead th {\n",
       "        text-align: right;\n",
       "    }\n",
       "</style>\n",
       "<table border=\"1\" class=\"dataframe\">\n",
       "  <thead>\n",
       "    <tr style=\"text-align: right;\">\n",
       "      <th></th>\n",
       "      <th>title</th>\n",
       "      <th>content</th>\n",
       "      <th>starRating</th>\n",
       "    </tr>\n",
       "    <tr>\n",
       "      <th>index</th>\n",
       "      <th></th>\n",
       "      <th></th>\n",
       "      <th></th>\n",
       "    </tr>\n",
       "  </thead>\n",
       "  <tbody>\n",
       "    <tr>\n",
       "      <th>11262</th>\n",
       "      <td>Foarte slab</td>\n",
       "      <td>ca aspect este foarte frumoasa dar cine vrea s...</td>\n",
       "      <td>1</td>\n",
       "    </tr>\n",
       "    <tr>\n",
       "      <th>3890</th>\n",
       "      <td>Foarte multumit</td>\n",
       "      <td>se incarca repede si tine 3 incarcari complete...</td>\n",
       "      <td>5</td>\n",
       "    </tr>\n",
       "    <tr>\n",
       "      <th>9413</th>\n",
       "      <td>Țeapa de zile mari</td>\n",
       "      <td>in primul rand nu este de stica dupa cum spune...</td>\n",
       "      <td>1</td>\n",
       "    </tr>\n",
       "    <tr>\n",
       "      <th>9350</th>\n",
       "      <td>Nu merita cumparate</td>\n",
       "      <td>nu merita cumparate... sunt create cu limitare...</td>\n",
       "      <td>1</td>\n",
       "    </tr>\n",
       "    <tr>\n",
       "      <th>7126</th>\n",
       "      <td>Recomand</td>\n",
       "      <td>un ceas excelent. face cam tot ce ai nevoie ca...</td>\n",
       "      <td>5</td>\n",
       "    </tr>\n",
       "  </tbody>\n",
       "</table>\n",
       "</div>"
      ],
      "text/plain": [
       "                     title                                            content  \\\n",
       "index                                                                           \n",
       "11262          Foarte slab  ca aspect este foarte frumoasa dar cine vrea s...   \n",
       "3890       Foarte multumit  se incarca repede si tine 3 incarcari complete...   \n",
       "9413    Țeapa de zile mari  in primul rand nu este de stica dupa cum spune...   \n",
       "9350   Nu merita cumparate  nu merita cumparate... sunt create cu limitare...   \n",
       "7126              Recomand  un ceas excelent. face cam tot ce ai nevoie ca...   \n",
       "\n",
       "      starRating  \n",
       "index             \n",
       "11262          1  \n",
       "3890           5  \n",
       "9413           1  \n",
       "9350           1  \n",
       "7126           5  "
      ]
     },
     "execution_count": 100,
     "metadata": {},
     "output_type": "execute_result"
    }
   ],
   "source": [
    "laroseda_train.head()"
   ]
  },
  {
   "cell_type": "code",
   "execution_count": 101,
   "id": "8222a649-80fa-4081-99c1-dba5586a1f0e",
   "metadata": {},
   "outputs": [],
   "source": [
    "# add title as sentence\n",
    "laroseda_train[\"content\"] = laroseda_train[\"title\"] + \". \" + laroseda_train[\"content\"]  "
   ]
  },
  {
   "cell_type": "code",
   "execution_count": 102,
   "id": "39c172ed-f061-4815-9606-2572e96c0a15",
   "metadata": {},
   "outputs": [
    {
     "data": {
      "text/html": [
       "<div>\n",
       "<style scoped>\n",
       "    .dataframe tbody tr th:only-of-type {\n",
       "        vertical-align: middle;\n",
       "    }\n",
       "\n",
       "    .dataframe tbody tr th {\n",
       "        vertical-align: top;\n",
       "    }\n",
       "\n",
       "    .dataframe thead th {\n",
       "        text-align: right;\n",
       "    }\n",
       "</style>\n",
       "<table border=\"1\" class=\"dataframe\">\n",
       "  <thead>\n",
       "    <tr style=\"text-align: right;\">\n",
       "      <th></th>\n",
       "      <th>title</th>\n",
       "      <th>content</th>\n",
       "      <th>starRating</th>\n",
       "    </tr>\n",
       "    <tr>\n",
       "      <th>index</th>\n",
       "      <th></th>\n",
       "      <th></th>\n",
       "      <th></th>\n",
       "    </tr>\n",
       "  </thead>\n",
       "  <tbody>\n",
       "    <tr>\n",
       "      <th>11262</th>\n",
       "      <td>Foarte slab</td>\n",
       "      <td>Foarte slab. ca aspect este foarte frumoasa da...</td>\n",
       "      <td>1</td>\n",
       "    </tr>\n",
       "    <tr>\n",
       "      <th>3890</th>\n",
       "      <td>Foarte multumit</td>\n",
       "      <td>Foarte multumit. se incarca repede si tine 3 i...</td>\n",
       "      <td>5</td>\n",
       "    </tr>\n",
       "    <tr>\n",
       "      <th>9413</th>\n",
       "      <td>Țeapa de zile mari</td>\n",
       "      <td>Țeapa de zile mari. in primul rand nu este de ...</td>\n",
       "      <td>1</td>\n",
       "    </tr>\n",
       "    <tr>\n",
       "      <th>9350</th>\n",
       "      <td>Nu merita cumparate</td>\n",
       "      <td>Nu merita cumparate. nu merita cumparate... su...</td>\n",
       "      <td>1</td>\n",
       "    </tr>\n",
       "    <tr>\n",
       "      <th>7126</th>\n",
       "      <td>Recomand</td>\n",
       "      <td>Recomand. un ceas excelent. face cam tot ce ai...</td>\n",
       "      <td>5</td>\n",
       "    </tr>\n",
       "  </tbody>\n",
       "</table>\n",
       "</div>"
      ],
      "text/plain": [
       "                     title                                            content  \\\n",
       "index                                                                           \n",
       "11262          Foarte slab  Foarte slab. ca aspect este foarte frumoasa da...   \n",
       "3890       Foarte multumit  Foarte multumit. se incarca repede si tine 3 i...   \n",
       "9413    Țeapa de zile mari  Țeapa de zile mari. in primul rand nu este de ...   \n",
       "9350   Nu merita cumparate  Nu merita cumparate. nu merita cumparate... su...   \n",
       "7126              Recomand  Recomand. un ceas excelent. face cam tot ce ai...   \n",
       "\n",
       "      starRating  \n",
       "index             \n",
       "11262          1  \n",
       "3890           5  \n",
       "9413           1  \n",
       "9350           1  \n",
       "7126           5  "
      ]
     },
     "execution_count": 102,
     "metadata": {},
     "output_type": "execute_result"
    }
   ],
   "source": [
    "laroseda_train.head()"
   ]
  },
  {
   "cell_type": "code",
   "execution_count": 103,
   "id": "dfbcd7e0-91a1-4366-84b7-a5e0fe334d1a",
   "metadata": {},
   "outputs": [
    {
     "name": "stdout",
     "output_type": "stream",
     "text": [
      "<class 'pandas.core.frame.DataFrame'>\n",
      "Index: 12000 entries, 11262 to 12216\n",
      "Data columns (total 3 columns):\n",
      " #   Column      Non-Null Count  Dtype \n",
      "---  ------      --------------  ----- \n",
      " 0   title       12000 non-null  object\n",
      " 1   content     12000 non-null  object\n",
      " 2   starRating  12000 non-null  object\n",
      "dtypes: object(3)\n",
      "memory usage: 375.0+ KB\n"
     ]
    }
   ],
   "source": [
    "laroseda_train.info()"
   ]
  },
  {
   "cell_type": "code",
   "execution_count": 107,
   "id": "3effc7d0-7248-4ad2-b0c1-d08ebc5c7b27",
   "metadata": {},
   "outputs": [],
   "source": [
    "laroseda_train[\"starRating\"] = laroseda_train[\"starRating\"].astype(float)"
   ]
  },
  {
   "cell_type": "code",
   "execution_count": 108,
   "id": "3fd8fc02-f9c2-4bb4-a583-1a8a36e40ee9",
   "metadata": {},
   "outputs": [],
   "source": [
    "ro_sent_train[\"label\"] = ro_sent_train[\"label\"].astype(float)"
   ]
  },
  {
   "cell_type": "code",
   "execution_count": 109,
   "id": "72e973d5-6fdc-40fd-ba80-6906fb59b74b",
   "metadata": {},
   "outputs": [],
   "source": [
    "# scale star rating\n",
    "laroseda_train[\"starRating\"] = (laroseda_train[\"starRating\"] - 1) / 4"
   ]
  },
  {
   "cell_type": "code",
   "execution_count": 110,
   "id": "8f61a8f1-bf89-4cab-bafa-3fcb94b4d1e1",
   "metadata": {},
   "outputs": [
    {
     "data": {
      "text/html": [
       "<div>\n",
       "<style scoped>\n",
       "    .dataframe tbody tr th:only-of-type {\n",
       "        vertical-align: middle;\n",
       "    }\n",
       "\n",
       "    .dataframe tbody tr th {\n",
       "        vertical-align: top;\n",
       "    }\n",
       "\n",
       "    .dataframe thead th {\n",
       "        text-align: right;\n",
       "    }\n",
       "</style>\n",
       "<table border=\"1\" class=\"dataframe\">\n",
       "  <thead>\n",
       "    <tr style=\"text-align: right;\">\n",
       "      <th></th>\n",
       "      <th>starRating</th>\n",
       "    </tr>\n",
       "  </thead>\n",
       "  <tbody>\n",
       "    <tr>\n",
       "      <th>count</th>\n",
       "      <td>12000.000000</td>\n",
       "    </tr>\n",
       "    <tr>\n",
       "      <th>mean</th>\n",
       "      <td>0.510896</td>\n",
       "    </tr>\n",
       "    <tr>\n",
       "      <th>std</th>\n",
       "      <td>0.458164</td>\n",
       "    </tr>\n",
       "    <tr>\n",
       "      <th>min</th>\n",
       "      <td>0.000000</td>\n",
       "    </tr>\n",
       "    <tr>\n",
       "      <th>25%</th>\n",
       "      <td>0.000000</td>\n",
       "    </tr>\n",
       "    <tr>\n",
       "      <th>50%</th>\n",
       "      <td>0.500000</td>\n",
       "    </tr>\n",
       "    <tr>\n",
       "      <th>75%</th>\n",
       "      <td>1.000000</td>\n",
       "    </tr>\n",
       "    <tr>\n",
       "      <th>max</th>\n",
       "      <td>1.000000</td>\n",
       "    </tr>\n",
       "  </tbody>\n",
       "</table>\n",
       "</div>"
      ],
      "text/plain": [
       "         starRating\n",
       "count  12000.000000\n",
       "mean       0.510896\n",
       "std        0.458164\n",
       "min        0.000000\n",
       "25%        0.000000\n",
       "50%        0.500000\n",
       "75%        1.000000\n",
       "max        1.000000"
      ]
     },
     "execution_count": 110,
     "metadata": {},
     "output_type": "execute_result"
    }
   ],
   "source": [
    "laroseda_train.describe()"
   ]
  },
  {
   "cell_type": "code",
   "execution_count": 115,
   "id": "878bf4ec-3baf-44ed-b123-5baf55d3d8ee",
   "metadata": {},
   "outputs": [],
   "source": [
    "laroseda_train = laroseda_train.drop(\"title\", axis=1)"
   ]
  },
  {
   "cell_type": "code",
   "execution_count": 116,
   "id": "b2a171b0-14fd-4789-9fa5-53cc6a8b99a2",
   "metadata": {},
   "outputs": [
    {
     "data": {
      "text/html": [
       "<div>\n",
       "<style scoped>\n",
       "    .dataframe tbody tr th:only-of-type {\n",
       "        vertical-align: middle;\n",
       "    }\n",
       "\n",
       "    .dataframe tbody tr th {\n",
       "        vertical-align: top;\n",
       "    }\n",
       "\n",
       "    .dataframe thead th {\n",
       "        text-align: right;\n",
       "    }\n",
       "</style>\n",
       "<table border=\"1\" class=\"dataframe\">\n",
       "  <thead>\n",
       "    <tr style=\"text-align: right;\">\n",
       "      <th></th>\n",
       "      <th>content</th>\n",
       "      <th>starRating</th>\n",
       "    </tr>\n",
       "    <tr>\n",
       "      <th>index</th>\n",
       "      <th></th>\n",
       "      <th></th>\n",
       "    </tr>\n",
       "  </thead>\n",
       "  <tbody>\n",
       "    <tr>\n",
       "      <th>11262</th>\n",
       "      <td>Foarte slab. ca aspect este foarte frumoasa da...</td>\n",
       "      <td>0.0</td>\n",
       "    </tr>\n",
       "    <tr>\n",
       "      <th>3890</th>\n",
       "      <td>Foarte multumit. se incarca repede si tine 3 i...</td>\n",
       "      <td>1.0</td>\n",
       "    </tr>\n",
       "    <tr>\n",
       "      <th>9413</th>\n",
       "      <td>Țeapa de zile mari. in primul rand nu este de ...</td>\n",
       "      <td>0.0</td>\n",
       "    </tr>\n",
       "    <tr>\n",
       "      <th>9350</th>\n",
       "      <td>Nu merita cumparate. nu merita cumparate... su...</td>\n",
       "      <td>0.0</td>\n",
       "    </tr>\n",
       "    <tr>\n",
       "      <th>7126</th>\n",
       "      <td>Recomand. un ceas excelent. face cam tot ce ai...</td>\n",
       "      <td>1.0</td>\n",
       "    </tr>\n",
       "  </tbody>\n",
       "</table>\n",
       "</div>"
      ],
      "text/plain": [
       "                                                 content  starRating\n",
       "index                                                               \n",
       "11262  Foarte slab. ca aspect este foarte frumoasa da...         0.0\n",
       "3890   Foarte multumit. se incarca repede si tine 3 i...         1.0\n",
       "9413   Țeapa de zile mari. in primul rand nu este de ...         0.0\n",
       "9350   Nu merita cumparate. nu merita cumparate... su...         0.0\n",
       "7126   Recomand. un ceas excelent. face cam tot ce ai...         1.0"
      ]
     },
     "execution_count": 116,
     "metadata": {},
     "output_type": "execute_result"
    }
   ],
   "source": [
    "laroseda_train.head()"
   ]
  },
  {
   "cell_type": "code",
   "execution_count": 118,
   "id": "a0ad7669-b1e0-4db9-b793-9daf7398b4eb",
   "metadata": {},
   "outputs": [],
   "source": [
    "laroseda_train.columns = ro_sent_train.columns"
   ]
  },
  {
   "cell_type": "code",
   "execution_count": 120,
   "id": "c753df38-c160-471c-a5f1-3d68a6ca18a9",
   "metadata": {},
   "outputs": [
    {
     "data": {
      "text/html": [
       "<div>\n",
       "<style scoped>\n",
       "    .dataframe tbody tr th:only-of-type {\n",
       "        vertical-align: middle;\n",
       "    }\n",
       "\n",
       "    .dataframe tbody tr th {\n",
       "        vertical-align: top;\n",
       "    }\n",
       "\n",
       "    .dataframe thead th {\n",
       "        text-align: right;\n",
       "    }\n",
       "</style>\n",
       "<table border=\"1\" class=\"dataframe\">\n",
       "  <thead>\n",
       "    <tr style=\"text-align: right;\">\n",
       "      <th></th>\n",
       "      <th>text</th>\n",
       "      <th>label</th>\n",
       "    </tr>\n",
       "    <tr>\n",
       "      <th>index</th>\n",
       "      <th></th>\n",
       "      <th></th>\n",
       "    </tr>\n",
       "  </thead>\n",
       "  <tbody>\n",
       "    <tr>\n",
       "      <th>11262</th>\n",
       "      <td>Foarte slab. ca aspect este foarte frumoasa da...</td>\n",
       "      <td>0.0</td>\n",
       "    </tr>\n",
       "    <tr>\n",
       "      <th>3890</th>\n",
       "      <td>Foarte multumit. se incarca repede si tine 3 i...</td>\n",
       "      <td>1.0</td>\n",
       "    </tr>\n",
       "    <tr>\n",
       "      <th>9413</th>\n",
       "      <td>Țeapa de zile mari. in primul rand nu este de ...</td>\n",
       "      <td>0.0</td>\n",
       "    </tr>\n",
       "    <tr>\n",
       "      <th>9350</th>\n",
       "      <td>Nu merita cumparate. nu merita cumparate... su...</td>\n",
       "      <td>0.0</td>\n",
       "    </tr>\n",
       "    <tr>\n",
       "      <th>7126</th>\n",
       "      <td>Recomand. un ceas excelent. face cam tot ce ai...</td>\n",
       "      <td>1.0</td>\n",
       "    </tr>\n",
       "  </tbody>\n",
       "</table>\n",
       "</div>"
      ],
      "text/plain": [
       "                                                    text  label\n",
       "index                                                          \n",
       "11262  Foarte slab. ca aspect este foarte frumoasa da...    0.0\n",
       "3890   Foarte multumit. se incarca repede si tine 3 i...    1.0\n",
       "9413   Țeapa de zile mari. in primul rand nu este de ...    0.0\n",
       "9350   Nu merita cumparate. nu merita cumparate... su...    0.0\n",
       "7126   Recomand. un ceas excelent. face cam tot ce ai...    1.0"
      ]
     },
     "execution_count": 120,
     "metadata": {},
     "output_type": "execute_result"
    }
   ],
   "source": [
    "laroseda_train.head()"
   ]
  },
  {
   "cell_type": "code",
   "execution_count": 121,
   "id": "a096639a-ba9a-4489-8a38-69f2b283ca2e",
   "metadata": {},
   "outputs": [
    {
     "name": "stdout",
     "output_type": "stream",
     "text": [
      "<class 'pandas.core.frame.DataFrame'>\n",
      "Index: 12000 entries, 11262 to 12216\n",
      "Data columns (total 2 columns):\n",
      " #   Column  Non-Null Count  Dtype  \n",
      "---  ------  --------------  -----  \n",
      " 0   text    12000 non-null  object \n",
      " 1   label   12000 non-null  float64\n",
      "dtypes: float64(1), object(1)\n",
      "memory usage: 539.3+ KB\n"
     ]
    }
   ],
   "source": [
    "laroseda_train.info()"
   ]
  },
  {
   "cell_type": "code",
   "execution_count": 122,
   "id": "b9907919-ed5f-450f-b0ac-3cc9ef2323d1",
   "metadata": {},
   "outputs": [
    {
     "name": "stdout",
     "output_type": "stream",
     "text": [
      "<class 'pandas.core.frame.DataFrame'>\n",
      "Int64Index: 17941 entries, 0 to 6846\n",
      "Data columns (total 2 columns):\n",
      " #   Column  Non-Null Count  Dtype  \n",
      "---  ------  --------------  -----  \n",
      " 0   text    17651 non-null  object \n",
      " 1   label   17941 non-null  float64\n",
      "dtypes: float64(1), object(1)\n",
      "memory usage: 420.5+ KB\n"
     ]
    }
   ],
   "source": [
    "ro_sent_train.info()"
   ]
  },
  {
   "cell_type": "code",
   "execution_count": 125,
   "id": "99c516e3-1be8-4360-bfbe-26783e5c7914",
   "metadata": {},
   "outputs": [
    {
     "name": "stdout",
     "output_type": "stream",
     "text": [
      "<class 'pandas.core.frame.DataFrame'>\n",
      "Index: 29941 entries, 11262 to 6846\n",
      "Data columns (total 2 columns):\n",
      " #   Column  Non-Null Count  Dtype  \n",
      "---  ------  --------------  -----  \n",
      " 0   text    29651 non-null  object \n",
      " 1   label   29941 non-null  float64\n",
      "dtypes: float64(1), object(1)\n",
      "memory usage: 701.7+ KB\n"
     ]
    }
   ],
   "source": [
    "pd.concat([laroseda_train, ro_sent_train]).info()"
   ]
  },
  {
   "cell_type": "markdown",
   "id": "9301ca0c-4c8a-4d9e-b372-efab44fb7b7c",
   "metadata": {},
   "source": [
    "# Final combine method"
   ]
  },
  {
   "cell_type": "code",
   "execution_count": 29,
   "id": "adaa26ca-aeb9-4ced-b4ac-99c809764b27",
   "metadata": {},
   "outputs": [],
   "source": [
    "def adapt_and_combine(ro_sent_df, laroseda_df):\n",
    "    # sanitize title\n",
    "    laroseda_df[\"title\"] = laroseda_df[\"title\"].str.replace('[^ \\w+]', '', regex=True)\n",
    "    \n",
    "    # add title as sentence\n",
    "    laroseda_df[\"content\"] = laroseda_df[\"title\"] + \". \" + laroseda_df[\"content\"]\n",
    "    \n",
    "    # convert label types\n",
    "    laroseda_df[\"starRating\"] = laroseda_df[\"starRating\"].astype(float)\n",
    "    ro_sent_df[\"label\"] = ro_sent_df[\"label\"].astype(float)\n",
    "    \n",
    "    # rescale star rating\n",
    "    laroseda_df[\"starRating\"] = (laroseda_df[\"starRating\"] - 1) / 4\n",
    "    \n",
    "    # drop columns\n",
    "    laroseda_df = laroseda_df.drop(\"title\", axis=1)\n",
    "    \n",
    "    # rename columns\n",
    "    laroseda_df.columns = ro_sent_df.columns\n",
    "    \n",
    "    # add column for dataset id\n",
    "    ro_sent_df[\"dataset\"] = \"ro_sent\"\n",
    "    laroseda_df[\"dataset\"] = \"laroseda\"\n",
    "    \n",
    "    \n",
    "    # concat\n",
    "    df_concat = pd.concat([laroseda_df, ro_sent_df])\n",
    "    \n",
    "    # remove nulls and return\n",
    "    return df_concat.dropna()"
   ]
  },
  {
   "cell_type": "code",
   "execution_count": 30,
   "id": "6a7b2335-a0df-43f8-8e7a-32e41f78dc02",
   "metadata": {},
   "outputs": [],
   "source": [
    "# reload data\n",
    "laroseda_train = load_laroseda(LAROSEDA_TRAIN_PATH)\n",
    "laroseda_test = load_laroseda(LAROSEDA_TEST_PATH)\n",
    "ro_sent_test = load_ro_sent_test(RO_SENT_TEST_PATH)\n",
    "ro_sent_train = load_ro_sent_train(RO_SENT_TRAIN_PATH)"
   ]
  },
  {
   "cell_type": "code",
   "execution_count": 31,
   "id": "e54e09e1-4a42-403f-8bc4-112e6779f8da",
   "metadata": {},
   "outputs": [],
   "source": [
    "final_train = adapt_and_combine(ro_sent_train, laroseda_train)"
   ]
  },
  {
   "cell_type": "code",
   "execution_count": 32,
   "id": "5e31c971-bd19-4933-b457-01377b9d750b",
   "metadata": {},
   "outputs": [],
   "source": [
    "final_test = adapt_and_combine(ro_sent_test, laroseda_test)"
   ]
  },
  {
   "cell_type": "code",
   "execution_count": 33,
   "id": "958835b3-d2fc-431c-9848-915784c6a13c",
   "metadata": {},
   "outputs": [
    {
     "name": "stdout",
     "output_type": "stream",
     "text": [
      "<class 'pandas.core.frame.DataFrame'>\n",
      "Index: 29651 entries, 11262 to 6846\n",
      "Data columns (total 3 columns):\n",
      " #   Column   Non-Null Count  Dtype  \n",
      "---  ------   --------------  -----  \n",
      " 0   text     29651 non-null  object \n",
      " 1   label    29651 non-null  float64\n",
      " 2   dataset  29651 non-null  object \n",
      "dtypes: float64(1), object(2)\n",
      "memory usage: 926.6+ KB\n"
     ]
    }
   ],
   "source": [
    "final_train.info()"
   ]
  },
  {
   "cell_type": "code",
   "execution_count": 34,
   "id": "bc44aec0-ee38-4b68-924a-b0cc561025ec",
   "metadata": {},
   "outputs": [
    {
     "name": "stdout",
     "output_type": "stream",
     "text": [
      "<class 'pandas.core.frame.DataFrame'>\n",
      "Index: 23005 entries, 11262 to 4827\n",
      "Data columns (total 3 columns):\n",
      " #   Column   Non-Null Count  Dtype  \n",
      "---  ------   --------------  -----  \n",
      " 0   text     23005 non-null  object \n",
      " 1   label    23005 non-null  float64\n",
      " 2   dataset  23005 non-null  object \n",
      "dtypes: float64(1), object(2)\n",
      "memory usage: 718.9+ KB\n"
     ]
    }
   ],
   "source": [
    "final_test.info()"
   ]
  },
  {
   "cell_type": "code",
   "execution_count": 35,
   "id": "19049a76-d364-462a-91de-5114b7eb7630",
   "metadata": {},
   "outputs": [],
   "source": [
    "FINAL_TEST_SAVE_PATH = \"data/test.csv\""
   ]
  },
  {
   "cell_type": "code",
   "execution_count": 36,
   "id": "04cf1ffc-9b58-413a-af43-17971b409cf6",
   "metadata": {},
   "outputs": [],
   "source": [
    "FINAL_TRAIN_SAVE_PATH = \"data/train.csv\""
   ]
  },
  {
   "cell_type": "code",
   "execution_count": 37,
   "id": "9752495a-94c0-4d1b-9946-022a0df8a2ce",
   "metadata": {},
   "outputs": [],
   "source": [
    "final_test.to_csv(FINAL_TEST_SAVE_PATH)"
   ]
  },
  {
   "cell_type": "code",
   "execution_count": 38,
   "id": "c4ba2adc-44d6-44ad-8210-cdd1fe48f60d",
   "metadata": {},
   "outputs": [],
   "source": [
    "final_train.to_csv(FINAL_TRAIN_SAVE_PATH)"
   ]
  },
  {
   "cell_type": "code",
   "execution_count": null,
   "id": "7ddacd25-aea7-4879-aad8-db554d0dd98d",
   "metadata": {},
   "outputs": [],
   "source": []
  }
 ],
 "metadata": {
  "kernelspec": {
   "display_name": "Python 3 (ipykernel)",
   "language": "python",
   "name": "python3"
  },
  "language_info": {
   "codemirror_mode": {
    "name": "ipython",
    "version": 3
   },
   "file_extension": ".py",
   "mimetype": "text/x-python",
   "name": "python",
   "nbconvert_exporter": "python",
   "pygments_lexer": "ipython3",
   "version": "3.10.2"
  }
 },
 "nbformat": 4,
 "nbformat_minor": 5
}
