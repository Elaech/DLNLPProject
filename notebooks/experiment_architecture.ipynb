{
 "cells": [
  {
   "cell_type": "markdown",
   "id": "a10dd795-a9c0-48e4-8313-ae3552c9310e",
   "metadata": {},
   "source": [
    "# Environment"
   ]
  },
  {
   "cell_type": "code",
   "execution_count": 3,
   "id": "a17e97b6-caa5-43fc-951e-ddc0820d7e33",
   "metadata": {},
   "outputs": [],
   "source": [
    "import pandas as pd"
   ]
  },
  {
   "cell_type": "markdown",
   "id": "00c5887b-5a93-4173-a3fd-00a0a89edabc",
   "metadata": {},
   "source": [
    "# Experiment Architecture"
   ]
  },
  {
   "cell_type": "code",
   "execution_count": 4,
   "id": "46fefb9a-973e-4c76-a97b-46d9dd53a17f",
   "metadata": {},
   "outputs": [],
   "source": [
    "# compute all types of scores"
   ]
  },
  {
   "cell_type": "code",
   "execution_count": null,
   "id": "04aefdec-2706-49a3-b21a-b21ed72e1dac",
   "metadata": {},
   "outputs": [],
   "source": [
    "# train"
   ]
  },
  {
   "cell_type": "code",
   "execution_count": null,
   "id": "60a01572-9d5c-41c1-be1c-3002d11e073e",
   "metadata": {},
   "outputs": [],
   "source": [
    "# data"
   ]
  },
  {
   "cell_type": "code",
   "execution_count": null,
   "id": "e6405562-7bd0-4c72-a047-05553f86908c",
   "metadata": {},
   "outputs": [],
   "source": [
    "# features"
   ]
  },
  {
   "cell_type": "code",
   "execution_count": null,
   "id": "3567214c-a978-4057-91dc-f20a60e52888",
   "metadata": {},
   "outputs": [],
   "source": [
    "# test"
   ]
  },
  {
   "cell_type": "code",
   "execution_count": null,
   "id": "eb506e87-71ac-4fb2-873c-1b6885bb163e",
   "metadata": {},
   "outputs": [],
   "source": [
    "# "
   ]
  },
  {
   "cell_type": "markdown",
   "id": "448e4c7b-b975-4f33-b74c-2a1363d429c9",
   "metadata": {},
   "source": [
    "# Example of Usage"
   ]
  },
  {
   "cell_type": "code",
   "execution_count": null,
   "id": "eaa5fd6e-9f7d-4da3-ad89-81e9211c4b48",
   "metadata": {},
   "outputs": [],
   "source": []
  }
 ],
 "metadata": {
  "kernelspec": {
   "display_name": "Python 3 (ipykernel)",
   "language": "python",
   "name": "python3"
  },
  "language_info": {
   "codemirror_mode": {
    "name": "ipython",
    "version": 3
   },
   "file_extension": ".py",
   "mimetype": "text/x-python",
   "name": "python",
   "nbconvert_exporter": "python",
   "pygments_lexer": "ipython3",
   "version": "3.10.2"
  }
 },
 "nbformat": 4,
 "nbformat_minor": 5
}
