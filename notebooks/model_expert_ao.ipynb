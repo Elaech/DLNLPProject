{
 "cells": [
  {
   "attachments": {},
   "cell_type": "markdown",
   "metadata": {},
   "source": [
    "## Prerequisites\n",
    "\n",
    "*Imports*"
   ]
  },
  {
   "cell_type": "code",
   "execution_count": 3,
   "metadata": {},
   "outputs": [],
   "source": [
    "import math"
   ]
  },
  {
   "attachments": {},
   "cell_type": "markdown",
   "metadata": {},
   "source": [
    "## Model Expert AO Class"
   ]
  },
  {
   "cell_type": "code",
   "execution_count": 6,
   "metadata": {},
   "outputs": [],
   "source": [
    "# ======================================================================================================================\n",
    "# Class - ModelExpert\n",
    "# ======================================================================================================================\n",
    "class ModelExpertAO:\n",
    "    \n",
    "    @staticmethod\n",
    "    def get_TF_v2(bag_of_words, words_freq_dict):\n",
    "        tf = {}\n",
    "        words_count = len(bag_of_words)\n",
    "        for w, frq in words_freq_dict.items():\n",
    "            tf[w] = frq / float(words_count)\n",
    "        return tf\n",
    "    \n",
    "    @staticmethod\n",
    "    def get_IDF_v2(words_freq_dict_list):\n",
    "        docs_count = len(words_freq_dict_list)\n",
    "        idf = dict.fromkeys(words_freq_dict_list[0].keys(), 0)\n",
    "        for freq_dict in words_freq_dict_list:\n",
    "            for w, frq in freq_dict.items():\n",
    "                if frq > 0:\n",
    "                    idf[w] += 1\n",
    "        idf = {w: math.log(docs_count / float(frq)) for w, frq in idf.items()}\n",
    "        return idf\n",
    "\n",
    "    @staticmethod\n",
    "    def get_TF_IDF_v2(tf, idf):\n",
    "        tf_idf = {w: frq * idf[w] for w, frq in tf.items()}\n",
    "        return tf_idf\n",
    "\n",
    "    @staticmethod\n",
    "    def get_TF_IDF_of_sanitized_words(docs_list: list):\n",
    "        # TF-IDF of sanitized words\n",
    "        print(f\"\\n{docs_list}\\n\")\n",
    "        all_words = set().union(*docs_list)\n",
    "        print(f\"\\n{all_words}\\n\")\n",
    "        words_count_in_docs = [dict.fromkeys(all_words, 0) for _ in docs_list]\n",
    "        for i in range(len(docs_list)):\n",
    "            for w in docs_list[i]:\n",
    "                words_count_in_docs[i][w] += 1\n",
    "            print(f\"\\n== Document-{i} ==\\n{words_count_in_docs[i]}\\n\")\n",
    "        # TF\n",
    "        all_TF = [ModelExpertAO.get_TF_v2(docs_list[i], words_count_in_docs[i]) for i in range(len(docs_list))]\n",
    "        print(f\"\\n== TF ==\\n{all_TF}\\n\")\n",
    "        # IDF\n",
    "        IDF = ModelExpertAO.get_IDF_v2(words_count_in_docs)\n",
    "        print(f\"\\n== IDF ==\\n{IDF}\\n\")\n",
    "        # TF-IDF\n",
    "        all_TF_IDF = [ModelExpertAO.get_TF_IDF_v2(all_TF[i], IDF) for i in range(len(docs_list))]\n",
    "        print(f\"\\n== TF-IDF ==\\n{all_TF_IDF}\\n\")\n",
    "        return all_TF_IDF"
   ]
  },
  {
   "cell_type": "code",
   "execution_count": 7,
   "metadata": {},
   "outputs": [
    {
     "name": "stdout",
     "output_type": "stream",
     "text": [
      "\n",
      "[['ce', 'fain', 'e', 'afara'], ['ce', 'e', 'asta']]\n",
      "\n",
      "\n",
      "{'ce', 'asta', 'fain', 'e', 'afara'}\n",
      "\n",
      "\n",
      "== Document-0 ==\n",
      "{'ce': 1, 'asta': 0, 'fain': 1, 'e': 1, 'afara': 1}\n",
      "\n",
      "\n",
      "== Document-1 ==\n",
      "{'ce': 1, 'asta': 1, 'fain': 0, 'e': 1, 'afara': 0}\n",
      "\n",
      "\n",
      "== TF ==\n",
      "[{'ce': 0.25, 'asta': 0.0, 'fain': 0.25, 'e': 0.25, 'afara': 0.25}, {'ce': 0.3333333333333333, 'asta': 0.3333333333333333, 'fain': 0.0, 'e': 0.3333333333333333, 'afara': 0.0}]\n",
      "\n",
      "\n",
      "== IDF ==\n",
      "{'ce': 0.0, 'asta': 0.6931471805599453, 'fain': 0.6931471805599453, 'e': 0.0, 'afara': 0.6931471805599453}\n",
      "\n",
      "\n",
      "== TF-IDF ==\n",
      "[{'ce': 0.0, 'asta': 0.0, 'fain': 0.17328679513998632, 'e': 0.0, 'afara': 0.17328679513998632}, {'ce': 0.0, 'asta': 0.23104906018664842, 'fain': 0.0, 'e': 0.0, 'afara': 0.0}]\n",
      "\n"
     ]
    },
    {
     "data": {
      "text/plain": [
       "[{'ce': 0.0,\n",
       "  'asta': 0.0,\n",
       "  'fain': 0.17328679513998632,\n",
       "  'e': 0.0,\n",
       "  'afara': 0.17328679513998632},\n",
       " {'ce': 0.0, 'asta': 0.23104906018664842, 'fain': 0.0, 'e': 0.0, 'afara': 0.0}]"
      ]
     },
     "execution_count": 7,
     "metadata": {},
     "output_type": "execute_result"
    }
   ],
   "source": [
    "# TF-IDF of sanitized words\n",
    "# Preprocessing, Bag of Words\n",
    "# List of lists sanitized words\n",
    "docs = [\n",
    "    ['ce', 'fain', 'e', 'afara'],\n",
    "    ['ce', 'e', 'asta']\n",
    "]\n",
    "ModelExpertAO.get_TF_IDF_of_sanitized_words(docs)"
   ]
  }
 ],
 "metadata": {
  "kernelspec": {
   "display_name": "Python 3",
   "language": "python",
   "name": "python3"
  },
  "language_info": {
   "codemirror_mode": {
    "name": "ipython",
    "version": 3
   },
   "file_extension": ".py",
   "mimetype": "text/x-python",
   "name": "python",
   "nbconvert_exporter": "python",
   "pygments_lexer": "ipython3",
   "version": "3.10.1"
  },
  "orig_nbformat": 4,
  "vscode": {
   "interpreter": {
    "hash": "369f2c481f4da34e4445cda3fffd2e751bd1c4d706f27375911949ba6bb62e1c"
   }
  }
 },
 "nbformat": 4,
 "nbformat_minor": 2
}
