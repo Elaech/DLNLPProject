{
 "cells": [
  {
   "cell_type": "markdown",
   "metadata": {},
   "source": [
    "## Prerequisites\n",
    "\n",
    "*Imports*"
   ]
  },
  {
   "cell_type": "code",
   "execution_count": 7,
   "metadata": {},
   "outputs": [],
   "source": [
    "import math"
   ]
  },
  {
   "cell_type": "code",
   "execution_count": 11,
   "metadata": {},
   "outputs": [],
   "source": [
    "import spacy"
   ]
  },
  {
   "cell_type": "code",
   "execution_count": 12,
   "metadata": {},
   "outputs": [],
   "source": [
    "import nltk"
   ]
  },
  {
   "cell_type": "code",
   "execution_count": 13,
   "metadata": {},
   "outputs": [],
   "source": [
    "from nltk.corpus import stopwords"
   ]
  },
  {
   "cell_type": "markdown",
   "metadata": {},
   "source": [
    "## Model Expert AO Class"
   ]
  },
  {
   "cell_type": "code",
   "execution_count": 14,
   "metadata": {},
   "outputs": [
    {
     "name": "stderr",
     "output_type": "stream",
     "text": [
      "[nltk_data] Downloading package stopwords to\n",
      "[nltk_data]     C:\\Users\\Bogdan\\AppData\\Roaming\\nltk_data...\n",
      "[nltk_data]   Package stopwords is already up-to-date!\n"
     ]
    },
    {
     "data": {
      "text/plain": [
       "True"
      ]
     },
     "execution_count": 14,
     "metadata": {},
     "output_type": "execute_result"
    }
   ],
   "source": [
    "nltk.download('stopwords')"
   ]
  },
  {
   "cell_type": "code",
   "execution_count": 2,
   "metadata": {},
   "outputs": [
    {
     "name": "stdout",
     "output_type": "stream",
     "text": [
      "Collecting ro-core-news-sm==3.4.0\n",
      "  Downloading https://github.com/explosion/spacy-models/releases/download/ro_core_news_sm-3.4.0/ro_core_news_sm-3.4.0-py3-none-any.whl (12.9 MB)\n",
      "Requirement already satisfied: spacy<3.5.0,>=3.4.0 in c:\\misc\\git\\dlnlpproject\\venv\\lib\\site-packages (from ro-core-news-sm==3.4.0) (3.4.3)\n",
      "Requirement already satisfied: requests<3.0.0,>=2.13.0 in c:\\misc\\git\\dlnlpproject\\venv\\lib\\site-packages (from spacy<3.5.0,>=3.4.0->ro-core-news-sm==3.4.0) (2.28.1)\n",
      "Requirement already satisfied: cymem<2.1.0,>=2.0.2 in c:\\misc\\git\\dlnlpproject\\venv\\lib\\site-packages (from spacy<3.5.0,>=3.4.0->ro-core-news-sm==3.4.0) (2.0.7)\n",
      "Requirement already satisfied: numpy>=1.15.0 in c:\\misc\\git\\dlnlpproject\\venv\\lib\\site-packages (from spacy<3.5.0,>=3.4.0->ro-core-news-sm==3.4.0) (1.23.5)\n",
      "Requirement already satisfied: spacy-legacy<3.1.0,>=3.0.10 in c:\\misc\\git\\dlnlpproject\\venv\\lib\\site-packages (from spacy<3.5.0,>=3.4.0->ro-core-news-sm==3.4.0) (3.0.10)\n",
      "Requirement already satisfied: thinc<8.2.0,>=8.1.0 in c:\\misc\\git\\dlnlpproject\\venv\\lib\\site-packages (from spacy<3.5.0,>=3.4.0->ro-core-news-sm==3.4.0) (8.1.5)\n",
      "Requirement already satisfied: murmurhash<1.1.0,>=0.28.0 in c:\\misc\\git\\dlnlpproject\\venv\\lib\\site-packages (from spacy<3.5.0,>=3.4.0->ro-core-news-sm==3.4.0) (1.0.9)\n",
      "Requirement already satisfied: srsly<3.0.0,>=2.4.3 in c:\\misc\\git\\dlnlpproject\\venv\\lib\\site-packages (from spacy<3.5.0,>=3.4.0->ro-core-news-sm==3.4.0) (2.4.5)\n",
      "Requirement already satisfied: catalogue<2.1.0,>=2.0.6 in c:\\misc\\git\\dlnlpproject\\venv\\lib\\site-packages (from spacy<3.5.0,>=3.4.0->ro-core-news-sm==3.4.0) (2.0.8)\n",
      "Requirement already satisfied: wasabi<1.1.0,>=0.9.1 in c:\\misc\\git\\dlnlpproject\\venv\\lib\\site-packages (from spacy<3.5.0,>=3.4.0->ro-core-news-sm==3.4.0) (0.10.1)\n",
      "Requirement already satisfied: preshed<3.1.0,>=3.0.2 in c:\\misc\\git\\dlnlpproject\\venv\\lib\\site-packages (from spacy<3.5.0,>=3.4.0->ro-core-news-sm==3.4.0) (3.0.8)\n",
      "Requirement already satisfied: pathy>=0.3.5 in c:\\misc\\git\\dlnlpproject\\venv\\lib\\site-packages (from spacy<3.5.0,>=3.4.0->ro-core-news-sm==3.4.0) (0.10.1)\n",
      "Requirement already satisfied: langcodes<4.0.0,>=3.2.0 in c:\\misc\\git\\dlnlpproject\\venv\\lib\\site-packages (from spacy<3.5.0,>=3.4.0->ro-core-news-sm==3.4.0) (3.3.0)\n",
      "Requirement already satisfied: setuptools in c:\\misc\\git\\dlnlpproject\\venv\\lib\\site-packages (from spacy<3.5.0,>=3.4.0->ro-core-news-sm==3.4.0) (60.2.0)\n",
      "Requirement already satisfied: tqdm<5.0.0,>=4.38.0 in c:\\misc\\git\\dlnlpproject\\venv\\lib\\site-packages (from spacy<3.5.0,>=3.4.0->ro-core-news-sm==3.4.0) (4.64.1)\n",
      "Requirement already satisfied: jinja2 in c:\\misc\\git\\dlnlpproject\\venv\\lib\\site-packages (from spacy<3.5.0,>=3.4.0->ro-core-news-sm==3.4.0) (3.1.2)\n",
      "Requirement already satisfied: pydantic!=1.8,!=1.8.1,<1.11.0,>=1.7.4 in c:\\misc\\git\\dlnlpproject\\venv\\lib\\site-packages (from spacy<3.5.0,>=3.4.0->ro-core-news-sm==3.4.0) (1.10.2)\n",
      "Requirement already satisfied: packaging>=20.0 in c:\\misc\\git\\dlnlpproject\\venv\\lib\\site-packages (from spacy<3.5.0,>=3.4.0->ro-core-news-sm==3.4.0) (21.3)\n",
      "Requirement already satisfied: typer<0.8.0,>=0.3.0 in c:\\misc\\git\\dlnlpproject\\venv\\lib\\site-packages (from spacy<3.5.0,>=3.4.0->ro-core-news-sm==3.4.0) (0.7.0)\n",
      "Requirement already satisfied: spacy-loggers<2.0.0,>=1.0.0 in c:\\misc\\git\\dlnlpproject\\venv\\lib\\site-packages (from spacy<3.5.0,>=3.4.0->ro-core-news-sm==3.4.0) (1.0.4)\n",
      "Requirement already satisfied: pyparsing!=3.0.5,>=2.0.2 in c:\\misc\\git\\dlnlpproject\\venv\\lib\\site-packages (from packaging>=20.0->spacy<3.5.0,>=3.4.0->ro-core-news-sm==3.4.0) (3.0.9)\n",
      "Requirement already satisfied: smart-open<7.0.0,>=5.2.1 in c:\\misc\\git\\dlnlpproject\\venv\\lib\\site-packages (from pathy>=0.3.5->spacy<3.5.0,>=3.4.0->ro-core-news-sm==3.4.0) (6.2.0)\n",
      "Requirement already satisfied: typing-extensions>=4.1.0 in c:\\misc\\git\\dlnlpproject\\venv\\lib\\site-packages (from pydantic!=1.8,!=1.8.1,<1.11.0,>=1.7.4->spacy<3.5.0,>=3.4.0->ro-core-news-sm==3.4.0) (4.4.0)\n",
      "Requirement already satisfied: idna<4,>=2.5 in c:\\misc\\git\\dlnlpproject\\venv\\lib\\site-packages (from requests<3.0.0,>=2.13.0->spacy<3.5.0,>=3.4.0->ro-core-news-sm==3.4.0) (3.4)\n",
      "Requirement already satisfied: urllib3<1.27,>=1.21.1 in c:\\misc\\git\\dlnlpproject\\venv\\lib\\site-packages (from requests<3.0.0,>=2.13.0->spacy<3.5.0,>=3.4.0->ro-core-news-sm==3.4.0) (1.26.13)\n",
      "Requirement already satisfied: certifi>=2017.4.17 in c:\\misc\\git\\dlnlpproject\\venv\\lib\\site-packages (from requests<3.0.0,>=2.13.0->spacy<3.5.0,>=3.4.0->ro-core-news-sm==3.4.0) (2022.9.24)\n",
      "Requirement already satisfied: charset-normalizer<3,>=2 in c:\\misc\\git\\dlnlpproject\\venv\\lib\\site-packages (from requests<3.0.0,>=2.13.0->spacy<3.5.0,>=3.4.0->ro-core-news-sm==3.4.0) (2.1.1)\n",
      "Requirement already satisfied: blis<0.8.0,>=0.7.8 in c:\\misc\\git\\dlnlpproject\\venv\\lib\\site-packages (from thinc<8.2.0,>=8.1.0->spacy<3.5.0,>=3.4.0->ro-core-news-sm==3.4.0) (0.7.9)\n",
      "Requirement already satisfied: confection<1.0.0,>=0.0.1 in c:\\misc\\git\\dlnlpproject\\venv\\lib\\site-packages (from thinc<8.2.0,>=8.1.0->spacy<3.5.0,>=3.4.0->ro-core-news-sm==3.4.0) (0.0.3)\n",
      "Requirement already satisfied: colorama in c:\\misc\\git\\dlnlpproject\\venv\\lib\\site-packages (from tqdm<5.0.0,>=4.38.0->spacy<3.5.0,>=3.4.0->ro-core-news-sm==3.4.0) (0.4.6)\n",
      "Requirement already satisfied: click<9.0.0,>=7.1.1 in c:\\misc\\git\\dlnlpproject\\venv\\lib\\site-packages (from typer<0.8.0,>=0.3.0->spacy<3.5.0,>=3.4.0->ro-core-news-sm==3.4.0) (8.1.3)\n",
      "Requirement already satisfied: MarkupSafe>=2.0 in c:\\misc\\git\\dlnlpproject\\venv\\lib\\site-packages (from jinja2->spacy<3.5.0,>=3.4.0->ro-core-news-sm==3.4.0) (2.1.1)\n",
      "[+] Download and installation successful\n",
      "You can now load the package via spacy.load('ro_core_news_sm')\n"
     ]
    },
    {
     "name": "stderr",
     "output_type": "stream",
     "text": [
      "WARNING: You are using pip version 21.3.1; however, version 22.3.1 is available.\n",
      "You should consider upgrading via the 'C:\\Misc\\GIT\\DLNLPProject\\venv\\Scripts\\python.exe -m pip install --upgrade pip' command.\n"
     ]
    }
   ],
   "source": [
    "!python -m spacy download ro_core_news_sm"
   ]
  },
  {
   "cell_type": "code",
   "execution_count": 15,
   "metadata": {},
   "outputs": [],
   "source": [
    "nlp = spacy.load(\"ro_core_news_sm\")"
   ]
  },
  {
   "cell_type": "code",
   "execution_count": 16,
   "metadata": {},
   "outputs": [],
   "source": [
    "# ======================================================================================================================\n",
    "# Class - ModelExpert\n",
    "# ======================================================================================================================\n",
    "class ModelExpertAO:\n",
    "    \n",
    "    @staticmethod\n",
    "    def get_TF_v2(bag_of_words, words_freq_dict):\n",
    "        tf = {}\n",
    "        words_count = len(bag_of_words)\n",
    "        for w, frq in words_freq_dict.items():\n",
    "            tf[w] = frq / float(words_count)\n",
    "        return tf\n",
    "    \n",
    "    @staticmethod\n",
    "    def get_IDF_v2(words_freq_dict_list):\n",
    "        docs_count = len(words_freq_dict_list)\n",
    "        idf = dict.fromkeys(words_freq_dict_list[0].keys(), 0)\n",
    "        for freq_dict in words_freq_dict_list:\n",
    "            for w, frq in freq_dict.items():\n",
    "                if frq > 0:\n",
    "                    idf[w] += 1\n",
    "        idf = {w: math.log(docs_count / float(frq)) for w, frq in idf.items()}\n",
    "        return idf\n",
    "\n",
    "    @staticmethod\n",
    "    def get_TF_IDF_v2(tf, idf):\n",
    "        tf_idf = {w: frq * idf[w] for w, frq in tf.items()}\n",
    "        return tf_idf\n",
    "\n",
    "    @staticmethod\n",
    "    def get_TF_IDF_of_sanitized_words(docs_list: list):\n",
    "        # TF-IDF of sanitized words\n",
    "        print(f\"\\n{docs_list}\\n\")\n",
    "        all_words = set().union(*docs_list)\n",
    "        print(f\"\\n{all_words}\\n\")\n",
    "        words_count_in_docs = [dict.fromkeys(all_words, 0) for _ in docs_list]\n",
    "        for i in range(len(docs_list)):\n",
    "            for w in docs_list[i]:\n",
    "                words_count_in_docs[i][w] += 1\n",
    "            print(f\"\\n== Document-{i} ==\\n{words_count_in_docs[i]}\\n\")\n",
    "        # TF\n",
    "        all_TF = [ModelExpertAO.get_TF_v2(docs_list[i], words_count_in_docs[i]) for i in range(len(docs_list))]\n",
    "        print(f\"\\n== TF ==\\n{all_TF}\\n\")\n",
    "        # IDF\n",
    "        IDF = ModelExpertAO.get_IDF_v2(words_count_in_docs)\n",
    "        print(f\"\\n== IDF ==\\n{IDF}\\n\")\n",
    "        # TF-IDF\n",
    "        all_TF_IDF = [ModelExpertAO.get_TF_IDF_v2(all_TF[i], IDF) for i in range(len(docs_list))]\n",
    "        print(f\"\\n== TF-IDF ==\\n{all_TF_IDF}\\n\")\n",
    "        return all_TF_IDF\n",
    "    \n",
    "    #word level lemma method, returns the same text in case of failure (unsupported text input)\n",
    "    @staticmethod\n",
    "    def get_lemma(text):\n",
    "        try:\n",
    "            doc = nlp(text)\n",
    "            empty_list = []\n",
    "            for token in doc:\n",
    "                empty_list.append(token.lemma_)\n",
    "\n",
    "            final_string = ' '.join(map(str,empty_list))\n",
    "            return final_string\n",
    "        except:\n",
    "            return text\n",
    "        \n",
    "    @staticmethod\n",
    "    def nltk_stopwords_ro(phrases):\n",
    "        stopwords = nltk.corpus.stopwords.words('romanian')\n",
    "        removed_stopwords = [w for w in phrases if not w in stopwords]\n",
    "        return removed_stopwords"
   ]
  },
  {
   "cell_type": "code",
   "execution_count": 20,
   "metadata": {},
   "outputs": [
    {
     "name": "stdout",
     "output_type": "stream",
     "text": [
      "\n",
      "[['ce', 'fain', 'e', 'afara'], ['ce', 'e', 'aceasta']]\n",
      "\n",
      "\n",
      "{'e', 'ce', 'aceasta', 'afara', 'fain'}\n",
      "\n",
      "\n",
      "== Document-0 ==\n",
      "{'e': 1, 'ce': 1, 'aceasta': 0, 'afara': 1, 'fain': 1}\n",
      "\n",
      "\n",
      "== Document-1 ==\n",
      "{'e': 1, 'ce': 1, 'aceasta': 1, 'afara': 0, 'fain': 0}\n",
      "\n",
      "\n",
      "== TF ==\n",
      "[{'e': 0.25, 'ce': 0.25, 'aceasta': 0.0, 'afara': 0.25, 'fain': 0.25}, {'e': 0.3333333333333333, 'ce': 0.3333333333333333, 'aceasta': 0.3333333333333333, 'afara': 0.0, 'fain': 0.0}]\n",
      "\n",
      "\n",
      "== IDF ==\n",
      "{'e': 0.0, 'ce': 0.0, 'aceasta': 0.6931471805599453, 'afara': 0.6931471805599453, 'fain': 0.6931471805599453}\n",
      "\n",
      "\n",
      "== TF-IDF ==\n",
      "[{'e': 0.0, 'ce': 0.0, 'aceasta': 0.0, 'afara': 0.17328679513998632, 'fain': 0.17328679513998632}, {'e': 0.0, 'ce': 0.0, 'aceasta': 0.23104906018664842, 'afara': 0.0, 'fain': 0.0}]\n",
      "\n"
     ]
    },
    {
     "data": {
      "text/plain": [
       "[{'e': 0.0,\n",
       "  'ce': 0.0,\n",
       "  'aceasta': 0.0,\n",
       "  'afara': 0.17328679513998632,\n",
       "  'fain': 0.17328679513998632},\n",
       " {'e': 0.0,\n",
       "  'ce': 0.0,\n",
       "  'aceasta': 0.23104906018664842,\n",
       "  'afara': 0.0,\n",
       "  'fain': 0.0}]"
      ]
     },
     "execution_count": 20,
     "metadata": {},
     "output_type": "execute_result"
    }
   ],
   "source": [
    "# TF-IDF of sanitized words\n",
    "# Preprocessing, Bag of Words\n",
    "# List of lists sanitized words\n",
    "docs = [\n",
    "    ['ce', 'fain', 'e', 'afara'],\n",
    "    ['ce', 'e', 'aceasta']\n",
    "]\n",
    "ModelExpertAO.get_TF_IDF_of_sanitized_words(docs)"
   ]
  },
  {
   "cell_type": "code",
   "execution_count": 21,
   "metadata": {},
   "outputs": [
    {
     "name": "stdout",
     "output_type": "stream",
     "text": [
      "ce\n",
      "fain\n",
      "fi\n",
      "afara\n",
      "ce\n",
      "fi\n",
      "acesta\n"
     ]
    }
   ],
   "source": [
    "for phrases in docs:\n",
    "    for words in phrases:\n",
    "        print(ModelExpertAO.get_lemma(words))"
   ]
  },
  {
   "cell_type": "code",
   "execution_count": 22,
   "metadata": {},
   "outputs": [
    {
     "name": "stdout",
     "output_type": "stream",
     "text": [
      "['fain', 'afara']\n",
      "[]\n"
     ]
    }
   ],
   "source": [
    "for phrases in docs:\n",
    "    print(ModelExpertAO.nltk_stopwords_ro(phrases))"
   ]
  }
 ],
 "metadata": {
  "kernelspec": {
   "display_name": "Python 3 (ipykernel)",
   "language": "python",
   "name": "python3"
  },
  "language_info": {
   "codemirror_mode": {
    "name": "ipython",
    "version": 3
   },
   "file_extension": ".py",
   "mimetype": "text/x-python",
   "name": "python",
   "nbconvert_exporter": "python",
   "pygments_lexer": "ipython3",
   "version": "3.10.6"
  },
  "vscode": {
   "interpreter": {
    "hash": "369f2c481f4da34e4445cda3fffd2e751bd1c4d706f27375911949ba6bb62e1c"
   }
  }
 },
 "nbformat": 4,
 "nbformat_minor": 4
}
