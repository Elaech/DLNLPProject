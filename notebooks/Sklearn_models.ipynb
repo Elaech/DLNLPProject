{
 "cells": [
  {
   "cell_type": "markdown",
   "id": "a8ad9815-5000-45c1-b8c1-06819d3546e9",
   "metadata": {
    "tags": []
   },
   "source": [
    "# Imports"
   ]
  },
  {
   "cell_type": "code",
   "execution_count": 1,
   "id": "de1db165-e3e9-4dc3-81c6-15be592b3af6",
   "metadata": {},
   "outputs": [
    {
     "name": "stderr",
     "output_type": "stream",
     "text": [
      "e:\\coding\\repos\\dlnlpproject\\venv\\lib\\site-packages\\tqdm\\auto.py:22: TqdmWarning: IProgress not found. Please update jupyter and ipywidgets. See https://ipywidgets.readthedocs.io/en/stable/user_install.html\n",
      "  from .autonotebook import tqdm as notebook_tqdm\n",
      "[nltk_data] Downloading package stopwords to C:\\Users\\Michael\n",
      "[nltk_data]     Minut\\AppData\\Roaming\\nltk_data...\n",
      "[nltk_data]   Package stopwords is already up-to-date!\n",
      "[nltk_data] Downloading package punkt to C:\\Users\\Michael\n",
      "[nltk_data]     Minut\\AppData\\Roaming\\nltk_data...\n",
      "[nltk_data]   Package punkt is already up-to-date!\n",
      "[nltk_data] Downloading package words to C:\\Users\\Michael\n",
      "[nltk_data]     Minut\\AppData\\Roaming\\nltk_data...\n",
      "[nltk_data]   Package words is already up-to-date!\n"
     ]
    }
   ],
   "source": [
    "import re, random, os\n",
    "import json, requests\n",
    "import pandas as pd\n",
    "import numpy as np\n",
    "import matplotlib.pyplot as plt\n",
    "import nltk\n",
    "import spacy\n",
    "from bs4 import BeautifulSoup\n",
    "from nltk.corpus import stopwords\n",
    "nltk.download('stopwords')\n",
    "nltk.download('punkt')\n",
    "nltk.download('words')\n",
    "from nltk.stem import PorterStemmer\n",
    "# from nltk.stem import LancasterStemmer\n",
    "from nltk.corpus import words\n",
    "from nltk.stem import WordNetLemmatizer\n",
    "\n",
    "import seaborn as sns\n",
    "import enchant\n",
    "from pathlib import Path\n",
    "from datasets import list_datasets, load_dataset\n",
    "from pprint import pprint\n",
    "from sklearn.feature_extraction.text import CountVectorizer, TfidfVectorizer\n",
    "from wordcloud import WordCloud"
   ]
  },
  {
   "cell_type": "code",
   "execution_count": 2,
   "id": "680d2b20-a2bc-467d-a1dc-ec93345d1668",
   "metadata": {},
   "outputs": [],
   "source": [
    "from tqdm import tqdm"
   ]
  },
  {
   "cell_type": "code",
   "execution_count": 3,
   "id": "38da1dda-74c9-4b98-bff5-3ec5da216abd",
   "metadata": {},
   "outputs": [],
   "source": [
    "tqdm.pandas()"
   ]
  },
  {
   "cell_type": "code",
   "execution_count": 4,
   "id": "9dab8273-552b-4ffc-b753-561080a40700",
   "metadata": {},
   "outputs": [],
   "source": [
    "os.chdir(\"..\")"
   ]
  },
  {
   "cell_type": "code",
   "execution_count": 5,
   "id": "3a169601-1dca-4c36-8f73-ec7dbaa34d71",
   "metadata": {},
   "outputs": [],
   "source": [
    "import pickle"
   ]
  },
  {
   "cell_type": "code",
   "execution_count": 32,
   "id": "9144ec72-c6ce-473a-a10e-562c69691d77",
   "metadata": {},
   "outputs": [],
   "source": [
    "from sklearn.metrics import accuracy_score, precision_score, recall_score"
   ]
  },
  {
   "cell_type": "code",
   "execution_count": 41,
   "id": "4c95a747-7eef-448d-823d-909544c8bdfc",
   "metadata": {},
   "outputs": [],
   "source": [
    "from sklearn.tree import DecisionTreeClassifier"
   ]
  },
  {
   "cell_type": "code",
   "execution_count": 24,
   "id": "15e443f1-7726-45bd-b90f-0104e4942583",
   "metadata": {},
   "outputs": [],
   "source": [
    "from sklearn.svm import SVC"
   ]
  },
  {
   "cell_type": "code",
   "execution_count": 50,
   "id": "86039fea-a3e8-4cc5-a0df-3e86e041f702",
   "metadata": {},
   "outputs": [],
   "source": [
    "from sklearn.ensemble import AdaBoostClassifier"
   ]
  },
  {
   "cell_type": "markdown",
   "id": "8b8f41a2-619b-4abe-ba9f-4fe6864acfa0",
   "metadata": {},
   "source": [
    "# Load Vectors"
   ]
  },
  {
   "cell_type": "code",
   "execution_count": 6,
   "id": "d7fd526a-94fd-47a9-a82c-3d2ad99d95a2",
   "metadata": {},
   "outputs": [],
   "source": [
    "TRAIN_DATASET_SANITIZED_PATH = \"data/train_sanitized.csv\""
   ]
  },
  {
   "cell_type": "code",
   "execution_count": 7,
   "id": "e5c75086-4421-448e-9619-9c996f703b46",
   "metadata": {},
   "outputs": [],
   "source": [
    "TEST_DATASET_SANITIZED_PATH = \"data/test_sanitized.csv\""
   ]
  },
  {
   "cell_type": "code",
   "execution_count": 8,
   "id": "90439859-f8ff-4311-ae99-33a573247777",
   "metadata": {},
   "outputs": [],
   "source": [
    "train_df = pd.read_csv(TRAIN_DATASET_SANITIZED_PATH)"
   ]
  },
  {
   "cell_type": "code",
   "execution_count": 9,
   "id": "22cdbc77-6503-438e-9dce-ab42275da7fc",
   "metadata": {},
   "outputs": [],
   "source": [
    "test_df = pd.read_csv(TEST_DATASET_SANITIZED_PATH)"
   ]
  },
  {
   "cell_type": "code",
   "execution_count": 10,
   "id": "0a41834a-e4d0-426f-bad6-19cd8fd675c9",
   "metadata": {},
   "outputs": [],
   "source": [
    "def load_model(path):\n",
    "    model = None\n",
    "    with open(path, 'rb') as infile:\n",
    "        model = pickle.load(infile)\n",
    "    return model"
   ]
  },
  {
   "cell_type": "code",
   "execution_count": 11,
   "id": "fa41c53c-3392-4621-92db-9e0a667154fb",
   "metadata": {},
   "outputs": [],
   "source": [
    "TRAIN_IDF_DATA_PATH = \"data/train_idf_vectors\""
   ]
  },
  {
   "cell_type": "code",
   "execution_count": 12,
   "id": "8e87efd2-dbd9-45ab-aa32-246469f7eccd",
   "metadata": {},
   "outputs": [],
   "source": [
    "TRAIN_CV_DATA_PATH = \"data/train_cv_vectors\""
   ]
  },
  {
   "cell_type": "code",
   "execution_count": 13,
   "id": "ac7f8b1e-b8bc-488f-a336-0ab36b16ecda",
   "metadata": {},
   "outputs": [],
   "source": [
    "TEST_IDF_DATA_PATH = \"data/test_idf_vectors\""
   ]
  },
  {
   "cell_type": "code",
   "execution_count": 14,
   "id": "9cbb2290-cddc-4b4f-bf83-3f12d2f2a9dd",
   "metadata": {},
   "outputs": [],
   "source": [
    "TEST_CV_DATA_PATH = \"data/test_cv_vectors\""
   ]
  },
  {
   "cell_type": "code",
   "execution_count": 15,
   "id": "a7f6c4f0-248b-462d-af92-4f8d8af1f7ae",
   "metadata": {},
   "outputs": [],
   "source": [
    "train_idf = load_model(TRAIN_IDF_DATA_PATH)"
   ]
  },
  {
   "cell_type": "code",
   "execution_count": 16,
   "id": "b0d83cce-fe95-43e9-bbf9-c5b99948ab95",
   "metadata": {},
   "outputs": [],
   "source": [
    "train_cv = load_model(TRAIN_CV_DATA_PATH)"
   ]
  },
  {
   "cell_type": "code",
   "execution_count": 17,
   "id": "c3d389b1-4437-4916-a2e7-1b66ac6c04a1",
   "metadata": {},
   "outputs": [],
   "source": [
    "test_idf = load_model(TEST_IDF_DATA_PATH)"
   ]
  },
  {
   "cell_type": "code",
   "execution_count": 18,
   "id": "7cc742e7-5e1e-4279-b25c-d64932673ae5",
   "metadata": {},
   "outputs": [],
   "source": [
    "test_cv = load_model(TEST_CV_DATA_PATH)"
   ]
  },
  {
   "cell_type": "code",
   "execution_count": 19,
   "id": "31aff172-3799-464b-b99c-1afeabb34d21",
   "metadata": {},
   "outputs": [],
   "source": [
    "def make_class(x):\n",
    "  return int(4*x)"
   ]
  },
  {
   "cell_type": "markdown",
   "id": "f8d4ecb6-5fad-4687-a149-d31537182b46",
   "metadata": {},
   "source": [
    "# Training Prep"
   ]
  },
  {
   "cell_type": "code",
   "execution_count": 38,
   "id": "d53191e2-9c7b-4f6e-a083-b4c244af7a15",
   "metadata": {},
   "outputs": [],
   "source": [
    "def print_metrics(pred, real):\n",
    "    print(\n",
    "        f\"Accuracy: {accuracy_score(real, pred)}\\n\"\n",
    "    )"
   ]
  },
  {
   "cell_type": "code",
   "execution_count": 20,
   "id": "381ccadc-f8c1-4b06-917d-e62586fe3a48",
   "metadata": {},
   "outputs": [],
   "source": [
    "train_df[\"label\"] = train_df[\"label\"].apply(make_class)"
   ]
  },
  {
   "cell_type": "code",
   "execution_count": 21,
   "id": "2780a721-42ab-482b-a975-a77e723795a3",
   "metadata": {},
   "outputs": [],
   "source": [
    "test_df[\"label\"] = test_df[\"label\"].apply(make_class)"
   ]
  },
  {
   "cell_type": "code",
   "execution_count": 22,
   "id": "bb9f5030-8296-4659-8f7c-d035884ce076",
   "metadata": {},
   "outputs": [],
   "source": [
    "train_labels = train_df[\"label\"].tolist()"
   ]
  },
  {
   "cell_type": "code",
   "execution_count": 23,
   "id": "32d784a9-027d-4db8-9152-fc73cdd39f4d",
   "metadata": {},
   "outputs": [],
   "source": [
    "test_labels = test_df[\"label\"].tolist()"
   ]
  },
  {
   "cell_type": "markdown",
   "id": "3f29f96d-90ce-4368-9092-21345ec86976",
   "metadata": {},
   "source": [
    "# Tree"
   ]
  },
  {
   "cell_type": "code",
   "execution_count": 42,
   "id": "57fb15eb-c810-476a-937e-f9ab09076d68",
   "metadata": {},
   "outputs": [],
   "source": [
    "tree_idf = DecisionTreeClassifier()"
   ]
  },
  {
   "cell_type": "code",
   "execution_count": 43,
   "id": "b59d5c90-589a-4141-a016-ccdb4245e56f",
   "metadata": {},
   "outputs": [],
   "source": [
    "tree_cv = DecisionTreeClassifier()"
   ]
  },
  {
   "cell_type": "code",
   "execution_count": 44,
   "id": "c33b9178-7ca6-43ad-a3d1-0e70ac365563",
   "metadata": {},
   "outputs": [],
   "source": [
    "tree_idf = tree_idf.fit(train_idf, train_labels)"
   ]
  },
  {
   "cell_type": "code",
   "execution_count": 45,
   "id": "c6125405-b8c2-46fe-a493-27708a47d527",
   "metadata": {},
   "outputs": [],
   "source": [
    "tree_cv = tree_cv.fit(train_cv, train_labels)"
   ]
  },
  {
   "cell_type": "code",
   "execution_count": 46,
   "id": "e54bbb2e-8430-45d3-9c0b-0677bcb280ce",
   "metadata": {},
   "outputs": [],
   "source": [
    "predictions_idf = tree_idf.predict(test_idf)"
   ]
  },
  {
   "cell_type": "code",
   "execution_count": 47,
   "id": "9106cc3f-e1c9-435c-be26-4ae551a0c830",
   "metadata": {},
   "outputs": [],
   "source": [
    "predictions_cv = tree_cv.predict(test_cv)"
   ]
  },
  {
   "cell_type": "code",
   "execution_count": 48,
   "id": "9eb91b6f-2bb4-46f1-a02f-673bbf3c523e",
   "metadata": {},
   "outputs": [
    {
     "name": "stdout",
     "output_type": "stream",
     "text": [
      "Accuracy: 0.8528759619146994\n",
      "\n"
     ]
    }
   ],
   "source": [
    "print_metrics(predictions_idf, test_labels)"
   ]
  },
  {
   "cell_type": "code",
   "execution_count": 49,
   "id": "e7a4a5fd-68a2-4a28-859b-2ae3cc49b8a6",
   "metadata": {},
   "outputs": [
    {
     "name": "stdout",
     "output_type": "stream",
     "text": [
      "Accuracy: 0.8566584061562541\n",
      "\n"
     ]
    }
   ],
   "source": [
    "print_metrics(predictions_cv, test_labels)"
   ]
  },
  {
   "cell_type": "markdown",
   "id": "51bf46d0-ee82-4251-bc20-f452a45791c5",
   "metadata": {},
   "source": [
    "# SVM"
   ]
  },
  {
   "cell_type": "code",
   "execution_count": null,
   "id": "47e7b65c-14f8-4d01-be2d-aa7d10012c26",
   "metadata": {},
   "outputs": [],
   "source": [
    "svm_idf = SVC(gamma='auto')"
   ]
  },
  {
   "cell_type": "code",
   "execution_count": 26,
   "id": "18634e88-fe9b-44d8-8e20-259e5e987f81",
   "metadata": {},
   "outputs": [],
   "source": [
    "svm_cv = SVC(gamma='auto')"
   ]
  },
  {
   "cell_type": "code",
   "execution_count": 27,
   "id": "39132471-7988-4dc4-8f65-aad27b770c59",
   "metadata": {},
   "outputs": [],
   "source": [
    "svm_idf = svm_idf.fit(train_idf, train_labels)"
   ]
  },
  {
   "cell_type": "code",
   "execution_count": 30,
   "id": "4b40cc0f-cad3-40e3-bb73-cd845a17a8cf",
   "metadata": {},
   "outputs": [],
   "source": [
    "svm_cv = svm_cv.fit(train_cv, train_labels)"
   ]
  },
  {
   "cell_type": "code",
   "execution_count": 35,
   "id": "26cdfae2-8402-4726-938d-20155eaf6d38",
   "metadata": {},
   "outputs": [],
   "source": [
    "predictions_idf = svm_idf.predict(test_idf)"
   ]
  },
  {
   "cell_type": "code",
   "execution_count": 36,
   "id": "13880461-3bfc-4d0f-b296-129194e846b6",
   "metadata": {},
   "outputs": [],
   "source": [
    "predictions_cv = svm_cv.predict(test_cv)"
   ]
  },
  {
   "cell_type": "code",
   "execution_count": 39,
   "id": "d133cfac-623d-4745-9f3b-78d9f5cd346e",
   "metadata": {},
   "outputs": [
    {
     "name": "stdout",
     "output_type": "stream",
     "text": [
      "Accuracy: 0.4849789139602626\n",
      "\n"
     ]
    }
   ],
   "source": [
    "print_metrics(predictions_idf, test_labels)"
   ]
  },
  {
   "cell_type": "code",
   "execution_count": 40,
   "id": "318bf580-b494-4d46-8286-d04658e8f132",
   "metadata": {},
   "outputs": [
    {
     "name": "stdout",
     "output_type": "stream",
     "text": [
      "Accuracy: 0.4849789139602626\n",
      "\n"
     ]
    }
   ],
   "source": [
    "print_metrics(predictions_cv, test_labels)"
   ]
  },
  {
   "cell_type": "markdown",
   "id": "6ec77b47-7e0b-4c4f-8f4f-242250c6abfe",
   "metadata": {},
   "source": [
    "# AdaBoosts"
   ]
  },
  {
   "cell_type": "code",
   "execution_count": 59,
   "id": "5233c9c2-75b3-4fef-a99c-c26e64490af4",
   "metadata": {},
   "outputs": [],
   "source": [
    "ada_idf = AdaBoostClassifier(n_estimators=300)"
   ]
  },
  {
   "cell_type": "code",
   "execution_count": 60,
   "id": "1b546307-9f0a-4a64-8375-310199de2b9b",
   "metadata": {},
   "outputs": [],
   "source": [
    "ada_cv = AdaBoostClassifier(n_estimators=300)"
   ]
  },
  {
   "cell_type": "code",
   "execution_count": 61,
   "id": "d1a10afd-74b3-48a5-b5bd-4b7d13395e88",
   "metadata": {},
   "outputs": [],
   "source": [
    "ada_idf = ada_idf.fit(train_idf, train_labels)"
   ]
  },
  {
   "cell_type": "code",
   "execution_count": 62,
   "id": "e274aede-de5f-43a3-bbbf-162458488498",
   "metadata": {},
   "outputs": [],
   "source": [
    "ada_cv = ada_cv.fit(train_cv, train_labels)"
   ]
  },
  {
   "cell_type": "code",
   "execution_count": 63,
   "id": "fe9631ab-3964-442b-b3cd-60fd695e9923",
   "metadata": {},
   "outputs": [],
   "source": [
    "predictions_idf = ada_idf.predict(test_idf)"
   ]
  },
  {
   "cell_type": "code",
   "execution_count": 64,
   "id": "4ed5e5d8-8f6d-4288-b78b-1172c17b5bd8",
   "metadata": {},
   "outputs": [],
   "source": [
    "predictions_cv = ada_cv.predict(test_cv)"
   ]
  },
  {
   "cell_type": "code",
   "execution_count": 65,
   "id": "6bbd8b64-f8ae-4ead-add9-391bcab92d50",
   "metadata": {},
   "outputs": [
    {
     "name": "stdout",
     "output_type": "stream",
     "text": [
      "Accuracy: 0.6931002999869571\n",
      "\n"
     ]
    }
   ],
   "source": [
    "print_metrics(predictions_idf, test_labels)"
   ]
  },
  {
   "cell_type": "code",
   "execution_count": 66,
   "id": "eedbb20c-2428-4b65-8c5e-a9f14f1dabf3",
   "metadata": {},
   "outputs": [
    {
     "name": "stdout",
     "output_type": "stream",
     "text": [
      "Accuracy: 0.7308377896613191\n",
      "\n"
     ]
    }
   ],
   "source": [
    "print_metrics(predictions_cv, test_labels)"
   ]
  }
 ],
 "metadata": {
  "kernelspec": {
   "display_name": "Python 3 (ipykernel)",
   "language": "python",
   "name": "python3"
  },
  "language_info": {
   "codemirror_mode": {
    "name": "ipython",
    "version": 3
   },
   "file_extension": ".py",
   "mimetype": "text/x-python",
   "name": "python",
   "nbconvert_exporter": "python",
   "pygments_lexer": "ipython3",
   "version": "3.10.2"
  }
 },
 "nbformat": 4,
 "nbformat_minor": 5
}
