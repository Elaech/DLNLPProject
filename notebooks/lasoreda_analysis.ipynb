{
 "cells": [
  {
   "attachments": {},
   "cell_type": "markdown",
   "metadata": {},
   "source": [
    "# LaRoSeDa Dataset\n",
    "\n",
    "A Large and Romanian Sentiment Data Set. LaRoSeDa contains 15,000 reviews written in Romanian, of which 7,500 are positive and 7,500 negative. The samples have one of four star ratings: 1 or 2 - for reviews that can be considered of negative polarity, and 4 or 5 for the positive ones. The 15,000 samples featured in the corpus and labelled with the star rating, are splitted in a train and test subsets, with 12,000 and 3,000 samples in each subset.\n",
    "\n",
    "Links:\n",
    "*https://huggingface.co/datasets/laroseda*\n",
    "*https://hackernoon.com/nlp-datasets-from-huggingface-how-to-access-and-train-them-i22u35t9*"
   ]
  },
  {
   "cell_type": "code",
   "execution_count": 61,
   "metadata": {},
   "outputs": [],
   "source": [
    "import re\n",
    "import pandas as pd\n",
    "import numpy as np\n",
    "import matplotlib.pyplot as plt\n",
    "\n",
    "from pathlib import Path\n",
    "from datasets import list_datasets, load_dataset\n",
    "from pprint import pprint\n",
    "from sklearn.feature_extraction.text import CountVectorizer"
   ]
  },
  {
   "cell_type": "code",
   "execution_count": 3,
   "metadata": {},
   "outputs": [
    {
     "name": "stderr",
     "output_type": "stream",
     "text": [
      "Found cached dataset laroseda (C:/Users/dinosaph/.cache/huggingface/datasets/laroseda/laroseda/1.0.0/ba712fe2b636cb6ff925a84e4f8568e81f1b584def346542c5835eda79aecc6c)\n",
      "Found cached dataset laroseda (C:/Users/dinosaph/.cache/huggingface/datasets/laroseda/laroseda/1.0.0/ba712fe2b636cb6ff925a84e4f8568e81f1b584def346542c5835eda79aecc6c)\n"
     ]
    }
   ],
   "source": [
    "lsrd_train = load_dataset('laroseda', split='train')\n",
    "lsrd_test = load_dataset('laroseda', split='test')"
   ]
  },
  {
   "cell_type": "code",
   "execution_count": 16,
   "metadata": {},
   "outputs": [
    {
     "name": "stdout",
     "output_type": "stream",
     "text": [
      "Dataset({\n",
      "    features: ['index', 'title', 'content', 'starRating'],\n",
      "    num_rows: 12000\n",
      "}) Dataset({\n",
      "    features: ['index', 'title', 'content', 'starRating'],\n",
      "    num_rows: 3000\n",
      "})\n"
     ]
    }
   ],
   "source": [
    "print(lsrd_train, lsrd_test)\n",
    "# lsrd_train.set_format(type='pandas', columns=['content', 'starRating'])\n",
    "lsrd_train_df = lsrd_train.to_pandas()\n",
    "lsrd_test_df = lsrd_test.to_pandas()"
   ]
  },
  {
   "cell_type": "code",
   "execution_count": 34,
   "metadata": {},
   "outputs": [
    {
     "data": {
      "text/html": [
       "<div>\n",
       "<style scoped>\n",
       "    .dataframe tbody tr th:only-of-type {\n",
       "        vertical-align: middle;\n",
       "    }\n",
       "\n",
       "    .dataframe tbody tr th {\n",
       "        vertical-align: top;\n",
       "    }\n",
       "\n",
       "    .dataframe thead th {\n",
       "        text-align: right;\n",
       "    }\n",
       "</style>\n",
       "<table border=\"1\" class=\"dataframe\">\n",
       "  <thead>\n",
       "    <tr style=\"text-align: right;\">\n",
       "      <th></th>\n",
       "      <th>Text</th>\n",
       "      <th>Sentiment</th>\n",
       "    </tr>\n",
       "  </thead>\n",
       "  <tbody>\n",
       "    <tr>\n",
       "      <th>0</th>\n",
       "      <td>ca aspect este foarte frumoasa dar cine vrea s...</td>\n",
       "      <td>1</td>\n",
       "    </tr>\n",
       "    <tr>\n",
       "      <th>1</th>\n",
       "      <td>se incarca repede si tine 3 incarcari complete...</td>\n",
       "      <td>0</td>\n",
       "    </tr>\n",
       "    <tr>\n",
       "      <th>2</th>\n",
       "      <td>in primul rand nu este de stica dupa cum spune...</td>\n",
       "      <td>1</td>\n",
       "    </tr>\n",
       "    <tr>\n",
       "      <th>3</th>\n",
       "      <td>nu merita cumparate... sunt create cu limitare...</td>\n",
       "      <td>1</td>\n",
       "    </tr>\n",
       "    <tr>\n",
       "      <th>4</th>\n",
       "      <td>un ceas excelent. face cam tot ce ai nevoie ca...</td>\n",
       "      <td>0</td>\n",
       "    </tr>\n",
       "  </tbody>\n",
       "</table>\n",
       "</div>"
      ],
      "text/plain": [
       "                                                Text  Sentiment\n",
       "0  ca aspect este foarte frumoasa dar cine vrea s...          1\n",
       "1  se incarca repede si tine 3 incarcari complete...          0\n",
       "2  in primul rand nu este de stica dupa cum spune...          1\n",
       "3  nu merita cumparate... sunt create cu limitare...          1\n",
       "4  un ceas excelent. face cam tot ce ai nevoie ca...          0"
      ]
     },
     "execution_count": 34,
     "metadata": {},
     "output_type": "execute_result"
    }
   ],
   "source": [
    "corpus = lsrd_train_df[['content', 'starRating']]\n",
    "corpus = corpus.rename(columns={'content': 'Text', 'starRating':'Sentiment'}) #, inplace=True)\n",
    "# Setting 'Sentiment' as 1 (positive) for 4+ rating stars, 0 (negative) for 0-3 rating stars\n",
    "corpus['Sentiment'] = np.where(corpus['Sentiment'] > 3, 1, 0)\n",
    "corpus.head()"
   ]
  },
  {
   "cell_type": "code",
   "execution_count": 41,
   "metadata": {},
   "outputs": [
    {
     "name": "stdout",
     "output_type": "stream",
     "text": [
      "['cat', 'acel', 'toata', 'fara', 'iar', 'multe', 'caruia', 'lui', 'carora', 'conform', 'decit', 'alaturi', 'cate', 'le', 'acest', 'ce', 'mult', 'niciodata', 'atatea', 'cine', 'nimic', 'toti', 'acestui', 'acestea', 'vreo', 'au', 'pe', 'unor', 'u', 'o', 'intr-o', 'alta', 'sa-mi', 'cata', 'acelasi', 'fata', 'intrucat', 'alti', 'abia', 'prea', 'aceea', 'sub', 'va', 'fost', 'sau', 'daca', 'incat', 'nou', 'citeva', 'cit', 'avea', 'ia', 'imi', 'totul', 'ba', 'cum', 'mai', 'bine', 'j', 'vom', 'un', 'fi', 'dintr-o', 'asupra', 'cind', 'spre', 'k', 'capat', 'in', 'voi', 'ala', 'oricum', 'nimeni', 'alte', 'il', 'acum', 'inapoi', 'astfel', 'asemenea', 'are', 'cele', 'pentru', 'ele', 'careia', 'tot', 'aia', 'din', 'care', 'ei', 'chiar', 'atitea', 'cineva', 'l', 'degraba', 'despre', 'ale', 'doar', 'cea', 'eu', 'f', 'pai', 'numai', 'atata', 'uneori', 'plus', 'atare', 'peste', 'cumva', 'r', 'el', 'or', 'tuturor', 'foarte', 'ti', 'acea', 'aceste', 'iti', 'parca', 'nu', 'era', 't', 'ati', 'sint', 'i', 'nostri', 'asa', 'v', 'cite', 'putini', 'citiva', 'unii', 'multi', 'al', 'astazi', 'face', 'ul', 'dar', 'atita', 'lor', 'te', 'cu', 'unde', 'noi', 'a', 'acesta', 'avem', 'h', 'vreun', 'acestia', 'noua', 'dintre', 'acolo', 'ar', 'inainte', 's', 'd', 'intr-un', 'acelea', 'avut', 'sa-ti', 'totusi', 'ceilalti', 'deasupra', 'multa', 'li', 'inca', 'anume', 'cativa', 'fie', 'niste', 'se', 'atat', 'fel', 'deja', 'atunci', 'de', 'sunt', 'n', 'altfel', 'ceea', 'azi', 'ca', 'mi', 'nici', 'ori', 'unele', 'c', 'sa', 'as', 'p', 'acela', 'm', 'cel', 'mod', 'apoi', 'ni', 'aceeasi', 'toate', 'la', 'dintr-un', 'celor', 'pina', 'citi', 'ne', 'ea', 'altii', 'cam', 'tu', 'mare', 'ai', 'cateva', 'sale', 'suntem', 'orice', 'altceva', 'isi', 'sintem', 'incit', 'alt', 'asta', 'geaba', 'cei', 'desi', 'nicidecum', 'ma', 'catre', 'ului', 'b', 'insa', 'cui', 'tocmai', 'intre', 'ceva', 'decat', 'si', 'atit', 'vor', 'aceia', 'intr', 'altul', 'atitia', 'aiurea', 'iara', 'unul', 'exact', 'aceasta', 'dintr', 'unei', 'atatia', 'deci', 'aici', 'unui', 'sus', 'dupa', 'dat', 'acestei', 'este', 'ii', 'prin', 'cand', 'una', 'am', 'da', 'ci', 'adica', 'cita', 'pana', 'sai']\n"
     ]
    }
   ],
   "source": [
    "RO_STOP_WORDS = None\n",
    "# From: https://www.kaggle.com/code/mpwolke/romanian-stop-words-w2v\n",
    "with open(r'data/romanian_stop_words.txt', 'r') as f:\n",
    "    ro_sw = f.readlines()\n",
    "    ro_sw = set(w.strip() for w in ro_sw)\n",
    "    RO_STOP_WORDS = list(frozenset(ro_sw))\n",
    "print(RO_STOP_WORDS)"
   ]
  },
  {
   "cell_type": "code",
   "execution_count": 75,
   "metadata": {},
   "outputs": [],
   "source": [
    "def clean_txt(doc):\n",
    "    # Normalize txt\n",
    "    new_doc = doc.lower()\n",
    "    # Removing symbols and such\n",
    "    # new_doc = re.sub(r\"(@\\[A-Za-z0-9]+)|([^0-9A-Za-z \\t])|(\\w+:\\/\\/\\S+)|^rt|http.+?|\\d+\", \"\", new_doc)\n",
    "    # Removing stop words\n",
    "    new_doc = ' '.join([w for w in new_doc.split() if w not in RO_STOP_WORDS])\n",
    "    return new_doc"
   ]
  },
  {
   "cell_type": "code",
   "execution_count": 76,
   "metadata": {},
   "outputs": [
    {
     "data": {
      "text/html": [
       "<div>\n",
       "<style scoped>\n",
       "    .dataframe tbody tr th:only-of-type {\n",
       "        vertical-align: middle;\n",
       "    }\n",
       "\n",
       "    .dataframe tbody tr th {\n",
       "        vertical-align: top;\n",
       "    }\n",
       "\n",
       "    .dataframe thead th {\n",
       "        text-align: right;\n",
       "    }\n",
       "</style>\n",
       "<table border=\"1\" class=\"dataframe\">\n",
       "  <thead>\n",
       "    <tr style=\"text-align: right;\">\n",
       "      <th></th>\n",
       "      <th>Text</th>\n",
       "      <th>Sentiment</th>\n",
       "    </tr>\n",
       "  </thead>\n",
       "  <tbody>\n",
       "    <tr>\n",
       "      <th>0</th>\n",
       "      <td>aspect frumoasa vrea joace tastatura poate</td>\n",
       "      <td>1</td>\n",
       "    </tr>\n",
       "    <tr>\n",
       "      <th>1</th>\n",
       "      <td>incarca repede tine incarcari complete telefon...</td>\n",
       "      <td>0</td>\n",
       "    </tr>\n",
       "    <tr>\n",
       "      <th>2</th>\n",
       "      <td>primul rand stica spune producatorul plastic l...</td>\n",
       "      <td>1</td>\n",
       "    </tr>\n",
       "    <tr>\n",
       "      <th>3</th>\n",
       "      <td>merita cumparate create limitare volum volumul...</td>\n",
       "      <td>1</td>\n",
       "    </tr>\n",
       "    <tr>\n",
       "      <th>4</th>\n",
       "      <td>ceas excelent nevoie vreme nul compari telefon...</td>\n",
       "      <td>0</td>\n",
       "    </tr>\n",
       "  </tbody>\n",
       "</table>\n",
       "</div>"
      ],
      "text/plain": [
       "                                                Text  Sentiment\n",
       "0         aspect frumoasa vrea joace tastatura poate          1\n",
       "1  incarca repede tine incarcari complete telefon...          0\n",
       "2  primul rand stica spune producatorul plastic l...          1\n",
       "3  merita cumparate create limitare volum volumul...          1\n",
       "4  ceas excelent nevoie vreme nul compari telefon...          0"
      ]
     },
     "execution_count": 76,
     "metadata": {},
     "output_type": "execute_result"
    }
   ],
   "source": [
    "corpus['Text'] = [clean_txt(t) for t in corpus['Text']]\n",
    "corpus.head()"
   ]
  },
  {
   "cell_type": "code",
   "execution_count": 77,
   "metadata": {},
   "outputs": [
    {
     "name": "stdout",
     "output_type": "stream",
     "text": [
      "total number of features:  18741\n"
     ]
    },
    {
     "name": "stderr",
     "output_type": "stream",
     "text": [
      "c:\\Python310\\lib\\site-packages\\sklearn\\utils\\deprecation.py:87: FutureWarning: Function get_feature_names is deprecated; get_feature_names is deprecated in 1.0 and will be removed in 1.2. Please use get_feature_names_out instead.\n",
      "  warnings.warn(msg, category=FutureWarning)\n"
     ]
    }
   ],
   "source": [
    "count_vectorize = CountVectorizer()\n",
    "feature_vector =  count_vectorize.fit(corpus.Text)\n",
    "features = feature_vector.get_feature_names()\n",
    "print(\"total number of features: \", len(features))"
   ]
  },
  {
   "cell_type": "code",
   "execution_count": 78,
   "metadata": {},
   "outputs": [
    {
     "data": {
      "text/plain": [
       "['curatat',\n",
       " 'descopera',\n",
       " 'portabila',\n",
       " 'impaturit',\n",
       " 'recomandarile',\n",
       " 'continuat',\n",
       " 'pierderi',\n",
       " 'sirena',\n",
       " 'imbina',\n",
       " 'furnizorul']"
      ]
     },
     "execution_count": 78,
     "metadata": {},
     "output_type": "execute_result"
    }
   ],
   "source": [
    "import random\n",
    "random.sample(features,10)"
   ]
  },
  {
   "cell_type": "code",
   "execution_count": 79,
   "metadata": {},
   "outputs": [
    {
     "data": {
      "text/plain": [
       "scipy.sparse.csr.csr_matrix"
      ]
     },
     "execution_count": 79,
     "metadata": {},
     "output_type": "execute_result"
    }
   ],
   "source": [
    "train_ds_features = count_vectorize.transform(corpus.Text)\n",
    "type(train_ds_features)"
   ]
  },
  {
   "cell_type": "code",
   "execution_count": 80,
   "metadata": {},
   "outputs": [
    {
     "data": {
      "text/plain": [
       "194489"
      ]
     },
     "execution_count": 80,
     "metadata": {},
     "output_type": "execute_result"
    }
   ],
   "source": [
    "train_ds_features.getnnz()"
   ]
  },
  {
   "cell_type": "code",
   "execution_count": 81,
   "metadata": {},
   "outputs": [
    {
     "name": "stdout",
     "output_type": "stream",
     "text": [
      "Density of the matrix:  0.08648106646745994\n"
     ]
    }
   ],
   "source": [
    "print(\"Density of the matrix: \", train_ds_features.getnnz()*100/(train_ds_features.shape[0]*train_ds_features.shape[1]))"
   ]
  },
  {
   "cell_type": "code",
   "execution_count": 82,
   "metadata": {},
   "outputs": [
    {
     "data": {
      "text/html": [
       "<div>\n",
       "<style scoped>\n",
       "    .dataframe tbody tr th:only-of-type {\n",
       "        vertical-align: middle;\n",
       "    }\n",
       "\n",
       "    .dataframe tbody tr th {\n",
       "        vertical-align: top;\n",
       "    }\n",
       "\n",
       "    .dataframe thead th {\n",
       "        text-align: right;\n",
       "    }\n",
       "</style>\n",
       "<table border=\"1\" class=\"dataframe\">\n",
       "  <thead>\n",
       "    <tr style=\"text-align: right;\">\n",
       "      <th></th>\n",
       "      <th>Text</th>\n",
       "      <th>Sentiment</th>\n",
       "    </tr>\n",
       "  </thead>\n",
       "  <tbody>\n",
       "    <tr>\n",
       "      <th>0</th>\n",
       "      <td>aspect frumoasa vrea joace tastatura poate</td>\n",
       "      <td>1</td>\n",
       "    </tr>\n",
       "  </tbody>\n",
       "</table>\n",
       "</div>"
      ],
      "text/plain": [
       "                                         Text  Sentiment\n",
       "0  aspect frumoasa vrea joace tastatura poate          1"
      ]
     },
     "execution_count": 82,
     "metadata": {},
     "output_type": "execute_result"
    }
   ],
   "source": [
    "train_ds_df = pd.DataFrame(train_ds_features.todense())\n",
    "train_ds_df.columns = features\n",
    "corpus[0:1]"
   ]
  },
  {
   "cell_type": "code",
   "execution_count": 83,
   "metadata": {},
   "outputs": [
    {
     "data": {
      "text/plain": [
       "Text(0, 0.5, 'Density')"
      ]
     },
     "execution_count": 83,
     "metadata": {},
     "output_type": "execute_result"
    },
    {
     "data": {
      "image/png": "[encoded data removed]",
      "text/plain": [
       "<Figure size 800x600 with 1 Axes>"
      ]
     },
     "metadata": {},
     "output_type": "display_data"
    }
   ],
   "source": [
    "features_counts = np.sum(train_ds_features.toarray(),axis=0)\n",
    "features_counts_df = pd.DataFrame(dict(features = features, counts = features_counts))\n",
    "plt.figure(figsize=(8,6))\n",
    "plt.hist(features_counts_df.counts, bins=50, range=(0,2000))\n",
    "plt.xlabel(\"Frequency of words\")\n",
    "plt.ylabel('Density')"
   ]
  },
  {
   "cell_type": "code",
   "execution_count": 84,
   "metadata": {},
   "outputs": [
    {
     "data": {
      "text/plain": [
       "9674"
      ]
     },
     "execution_count": 84,
     "metadata": {},
     "output_type": "execute_result"
    }
   ],
   "source": [
    "len(features_counts_df[features_counts_df.counts==1])"
   ]
  },
  {
   "cell_type": "code",
   "execution_count": 85,
   "metadata": {},
   "outputs": [
    {
     "name": "stderr",
     "output_type": "stream",
     "text": [
      "c:\\Python310\\lib\\site-packages\\sklearn\\utils\\deprecation.py:87: FutureWarning: Function get_feature_names is deprecated; get_feature_names is deprecated in 1.0 and will be removed in 1.2. Please use get_feature_names_out instead.\n",
      "  warnings.warn(msg, category=FutureWarning)\n"
     ]
    },
    {
     "data": {
      "text/html": [
       "<div>\n",
       "<style scoped>\n",
       "    .dataframe tbody tr th:only-of-type {\n",
       "        vertical-align: middle;\n",
       "    }\n",
       "\n",
       "    .dataframe tbody tr th {\n",
       "        vertical-align: top;\n",
       "    }\n",
       "\n",
       "    .dataframe thead th {\n",
       "        text-align: right;\n",
       "    }\n",
       "</style>\n",
       "<table border=\"1\" class=\"dataframe\">\n",
       "  <thead>\n",
       "    <tr style=\"text-align: right;\">\n",
       "      <th></th>\n",
       "      <th>features</th>\n",
       "      <th>counts</th>\n",
       "    </tr>\n",
       "  </thead>\n",
       "  <tbody>\n",
       "    <tr>\n",
       "      <th>757</th>\n",
       "      <td>recomand</td>\n",
       "      <td>2428</td>\n",
       "    </tr>\n",
       "    <tr>\n",
       "      <th>92</th>\n",
       "      <td>bateria</td>\n",
       "      <td>1528</td>\n",
       "    </tr>\n",
       "    <tr>\n",
       "      <th>109</th>\n",
       "      <td>bun</td>\n",
       "      <td>1512</td>\n",
       "    </tr>\n",
       "    <tr>\n",
       "      <th>408</th>\n",
       "      <td>incarca</td>\n",
       "      <td>1488</td>\n",
       "    </tr>\n",
       "    <tr>\n",
       "      <th>711</th>\n",
       "      <td>produs</td>\n",
       "      <td>1482</td>\n",
       "    </tr>\n",
       "    <tr>\n",
       "      <th>124</th>\n",
       "      <td>calitate</td>\n",
       "      <td>1390</td>\n",
       "    </tr>\n",
       "    <tr>\n",
       "      <th>912</th>\n",
       "      <td>telefonul</td>\n",
       "      <td>1340</td>\n",
       "    </tr>\n",
       "    <tr>\n",
       "      <th>617</th>\n",
       "      <td>ok</td>\n",
       "      <td>1322</td>\n",
       "    </tr>\n",
       "    <tr>\n",
       "      <th>110</th>\n",
       "      <td>buna</td>\n",
       "      <td>1204</td>\n",
       "    </tr>\n",
       "    <tr>\n",
       "      <th>911</th>\n",
       "      <td>telefon</td>\n",
       "      <td>1186</td>\n",
       "    </tr>\n",
       "    <tr>\n",
       "      <th>72</th>\n",
       "      <td>aude</td>\n",
       "      <td>1123</td>\n",
       "    </tr>\n",
       "    <tr>\n",
       "      <th>922</th>\n",
       "      <td>tine</td>\n",
       "      <td>1102</td>\n",
       "    </tr>\n",
       "    <tr>\n",
       "      <th>462</th>\n",
       "      <td>lam</td>\n",
       "      <td>1086</td>\n",
       "    </tr>\n",
       "    <tr>\n",
       "      <th>661</th>\n",
       "      <td>poate</td>\n",
       "      <td>964</td>\n",
       "    </tr>\n",
       "    <tr>\n",
       "      <th>103</th>\n",
       "      <td>boxa</td>\n",
       "      <td>959</td>\n",
       "    </tr>\n",
       "  </tbody>\n",
       "</table>\n",
       "</div>"
      ],
      "text/plain": [
       "      features  counts\n",
       "757   recomand    2428\n",
       "92     bateria    1528\n",
       "109        bun    1512\n",
       "408    incarca    1488\n",
       "711     produs    1482\n",
       "124   calitate    1390\n",
       "912  telefonul    1340\n",
       "617         ok    1322\n",
       "110       buna    1204\n",
       "911    telefon    1186\n",
       "72        aude    1123\n",
       "922       tine    1102\n",
       "462        lam    1086\n",
       "661      poate     964\n",
       "103       boxa     959"
      ]
     },
     "execution_count": 85,
     "metadata": {},
     "output_type": "execute_result"
    }
   ],
   "source": [
    "count_vectorizer =  CountVectorizer(max_features=1000)\n",
    "feature_vector = count_vectorizer.fit(corpus.Text)\n",
    "features = feature_vector.get_feature_names()\n",
    "train_ds_features = count_vectorizer.transform(corpus.Text)\n",
    "features_counts =  np.sum(train_ds_features.toarray(),axis=0)\n",
    "features_counts = pd.DataFrame(dict(features = features, counts = features_counts))\n",
    "features_counts.sort_values('counts', ascending=False)[0:15]"
   ]
  }
 ],
 "metadata": {
  "kernelspec": {
   "display_name": "Python 3",
   "language": "python",
   "name": "python3"
  },
  "language_info": {
   "codemirror_mode": {
    "name": "ipython",
    "version": 3
   },
   "file_extension": ".py",
   "mimetype": "text/x-python",
   "name": "python",
   "nbconvert_exporter": "python",
   "pygments_lexer": "ipython3",
   "version": "3.10.1 (tags/v3.10.1:2cd268a, Dec  6 2021, 19:10:37) [MSC v.1929 64 bit (AMD64)]"
  },
  "orig_nbformat": 4,
  "vscode": {
   "interpreter": {
    "hash": "369f2c481f4da34e4445cda3fffd2e751bd1c4d706f27375911949ba6bb62e1c"
   }
  }
 },
 "nbformat": 4,
 "nbformat_minor": 2
}
